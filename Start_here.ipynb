{
  "nbformat": 4,
  "nbformat_minor": 0,
  "metadata": {
    "colab": {
      "private_outputs": true,
      "provenance": [],
      "toc_visible": true,
      "include_colab_link": true
    },
    "kernelspec": {
      "name": "python3",
      "display_name": "Python 3"
    },
    "language_info": {
      "name": "python"
    }
  },
  "cells": [
    {
      "cell_type": "markdown",
      "metadata": {
        "id": "view-in-github",
        "colab_type": "text"
      },
      "source": [
        "<a href=\"https://colab.research.google.com/github/polattamer/tamerpolat/blob/main/Start_here.ipynb\" target=\"_parent\"><img src=\"https://colab.research.google.com/assets/colab-badge.svg\" alt=\"Open In Colab\"/></a>"
      ]
    },
    {
      "cell_type": "markdown",
      "source": [
        "<table width=\"100%\">\n",
        "    <tr style=\"\">\n",
        "        <th style=\"text-align:left; padding:0px\" width=\"5%\">\n",
        "            <a href=\"https://www.marmara.edu.tr\" target=\"_blank\">\n",
        "                <img src=\"https://raw.githubusercontent.com/MU-Physics-Department/logos/master/mu_logo.png\">\n",
        "            </a>\n",
        "        </th>\n",
        "        <th style=\"padding:0px;\" width=\"35%\">\n",
        "            <img align=\"right\" src=\"https://raw.githubusercontent.com/MU-Physics-Department/logos/master/name.png\">\n",
        "        </th>\n",
        "        <th  width=\"20%\">\n",
        "            &nbsp;\n",
        "        </th>\n",
        "        <th style=\"padding:0px\" width=\"5%\">\n",
        "            <a href=\"https://www.sababozpolat.com\" target=\"_blank\" padding=\"0px\">\n",
        "                <img align=\"center\" src=\"https://raw.githubusercontent.com/MU-Physics-Department/logos/master/hp.png\">\n",
        "            </a>\n",
        "        </th>\n",
        "        <th style=\"padding:0px\" width=\"5%\">\n",
        "            <a href=\"mailto:saba.bozpolat@gmail.com\" target=\"_blank\">\n",
        "                <img align=\"center\" src=\"https://raw.githubusercontent.com/MU-Physics-Department/logos/master/email.png\">\n",
        "            </a>\n",
        "        </th>\n",
        "        <th style=\"padding:0px;\" width=\"5%\">\n",
        "            <a href=\"https://www.linkedin.com/in/saba-bozpolat-644856152/\" target=\"_blank\">\n",
        "                <img align=\"right\" src=\"https://raw.githubusercontent.com/MU-Physics-Department/logos/master/in.png\">\n",
        "            </a>\n",
        "        </th>\n",
        "        <th style=\"padding:0px;\" width=\"5%\">\n",
        "            <a href=\"https://scholar.google.com.tr/citations?user=nSiJoMYAAAAJ&hl=en\" target=\"_blank\">\n",
        "                <img align=\"right\" src=\"https://raw.githubusercontent.com/MU-Physics-Department/logos/master/GS.png\">\n",
        "            </a>\n",
        "        </th>\n",
        "        <th style=\"padding:0px;\" width=\"5%\">\n",
        "            <a href=\"https://www.researchgate.net/profile/Saba-Bozpolat\" target=\"_blank\">\n",
        "                <img align=\"right\" src=\"https://raw.githubusercontent.com/MU-Physics-Department/logos/master/RG.png\">\n",
        "            </a>\n",
        "        </th>\n",
        "        <th style=\"padding:0px\" width=\"5%\">\n",
        "            <a href=\"https://www.youtube.com/channel/UC8-uOZud6UL7oCOE2UUBunA\" target=\"_blank\">\n",
        "                <img align=\"right\" src=\"https://raw.githubusercontent.com/MU-Physics-Department/logos/master/YT.png\">\n",
        "            </a>\n",
        "        </th>\n",
        "        <th style=\"padding:0px;\" width=\"5%\">\n",
        "            <a href=\"https://github.com/sbbzplt\" target=\"_blank\">\n",
        "                <img align=\"right\" src=\"https://raw.githubusercontent.com/MU-Physics-Department/logos/master/GH.png\">\n",
        "            </a>\n",
        "        </th>\n",
        "        <th style=\"padding:0px;\" width=\"5%\">\n",
        "            <a href=\"https://join.slack.com/t/mu-fzk/shared_invite/zt-13jtd6dtd-g9zD5P4Zu0m5P0Gt2PNReQ\"\n",
        "               target=\"_blank\">\n",
        "                <img align=\"right\" src=\"https://raw.githubusercontent.com/MU-Physics-Department/logos/master/slack.png\">\n",
        "            </a>\n",
        "        </th>\n",
        "    </tr>\n",
        "</table>\n",
        "<table width=\"100%\">\n",
        "    <tr style=\"background-color:white;\">\n",
        "        <!-- <td style=\"text-align-left;padding:0px;\" width=\"10%\">\n",
        "            <a href=\"https://fef.marmara.edu.tr\"\n",
        "               target=\"_blank\">\n",
        "                <img align=\"right\" src=\"https://raw.githubusercontent.com/MU-Physics-Department/logos/master/fef.png\">\n",
        "            </a>\n",
        "        </td> -->\n",
        "        <td style=\"padding:0px\" width=\"25%\">\n",
        "            <a href=\"http://fzk.fef.marmara.edu.tr\"\n",
        "               target=\"_blank\">\n",
        "                <img align=\"right\" src=\"https://raw.githubusercontent.com/MU-Physics-Department/logos/master/fzk.png\">\n",
        "            </a>\n",
        "        </td>\n",
        "        <td width=\"10%\">\n",
        "            &nbsp;\n",
        "        </td>\n",
        "        <td style=\"padding:0px;\" width=\"65%\">\n",
        "            <a href=\"https://www.sababozpolat.com/lectures/spring-semester/scientific-programming\"\n",
        "               target=\"_blank\">\n",
        "                <img align=\"right\" src=\"https://raw.githubusercontent.com/MU-Physics-Department/logos/master/phys3011.png\">\n",
        "            </a>\n",
        "        </td>\n",
        "    </tr>\n",
        "</table>"
      ],
      "metadata": {
        "id": "LYDbVPHCwcOR"
      }
    },
    {
      "cell_type": "markdown",
      "source": [
        "# Content"
      ],
      "metadata": {
        "id": "7srjHVwK8Zzm"
      }
    },
    {
      "cell_type": "markdown",
      "source": [
        "## Python review\n",
        "\n",
        "[Variables](content/python/Python08_Basics_Variables.ipynb) &nbsp;|&nbsp;\n",
        "[Containers](content/python/Python02_Basics_Containers.ipynb) &nbsp;|&nbsp;\n",
        "[Homework 1](content/python/Python24_Homework.ipynb) &nbsp;|&nbsp;\n",
        "[Conditionals](content/python/Python16_Basics_Conditionals.ipynb) &nbsp;|&nbsp;<!-- [Lists](content/python/Python20_Basics_Lists.ipynb) &nbsp;|&nbsp; -->\n",
        "[Homework 2](content/python/Python28_Homework.ipynb) &nbsp;|&nbsp;\n",
        "[Loops](content/python/Python12_Basics_Loops.ipynb) &nbsp;|&nbsp;\n",
        "[Homework 3](content/python/Python32_Homework.ipynb)\n",
        "\n",
        "[Python Reference](content/python/Python04_Quick_Reference.ipynb) &nbsp;|&nbsp;\n",
        "[Drawing Reference](content/python/Python06_Drawing.ipynb)\n"
      ],
      "metadata": {
        "id": "ETINNmiY59Bq"
      }
    },
    {
      "cell_type": "markdown",
      "source": [
        "## Why do we need objects?\n",
        "[Vectors](content/motivation/V04_Vectors.ipynb) &nbsp;|&nbsp;\n",
        "[Vectors with Objects](content/motivation/V08_Vectors_with_Objects.ipynb)\n"
      ],
      "metadata": {
        "id": "f0y-ReOe8dhk"
      }
    },
    {
      "cell_type": "markdown",
      "source": [
        "## Object paradigm in programming\n",
        "[Objects and object-oriented programming](content/OOP08_Objects.ipynb) &nbsp;|&nbsp;\n",
        "[Object-oriented design](content/OOP12_Object_oriented_design.ipynb) &nbsp;|&nbsp;\n",
        "[Object implementation](content/OOP16_Object_implementation.ipynb)"
      ],
      "metadata": {
        "id": "1kCZahPi8vHH"
      }
    },
    {
      "cell_type": "markdown",
      "source": [
        "## Objects in Python"
      ],
      "metadata": {
        "id": "4Pf0fgj38vZR"
      }
    },
    {
      "cell_type": "markdown",
      "source": [
        "## Error Handling in Object Oriented Programming"
      ],
      "metadata": {
        "id": "nHmAjz2-9Ja8"
      }
    },
    {
      "cell_type": "markdown",
      "source": [
        "## Custom Errors for Objects"
      ],
      "metadata": {
        "id": "s_2U9Oq89PYR"
      }
    },
    {
      "cell_type": "markdown",
      "source": [
        "## Alike Objects"
      ],
      "metadata": {
        "id": "vGGbcfaZ8vt_"
      }
    },
    {
      "cell_type": "markdown",
      "source": [
        "## Dunder Methods"
      ],
      "metadata": {
        "id": "zKg7TVUr9WXw"
      }
    },
    {
      "cell_type": "code",
      "execution_count": null,
      "metadata": {
        "id": "A1V4dIVSuZxL"
      },
      "outputs": [],
      "source": []
    }
  ]
}