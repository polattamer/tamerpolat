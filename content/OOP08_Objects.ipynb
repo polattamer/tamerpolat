{
  "nbformat": 4,
  "nbformat_minor": 0,
  "metadata": {
    "colab": {
      "private_outputs": true,
      "provenance": [],
      "toc_visible": true,
      "include_colab_link": true
    },
    "kernelspec": {
      "name": "python3",
      "display_name": "Python 3"
    },
    "language_info": {
      "name": "python"
    }
  },
  "cells": [
    {
      "cell_type": "markdown",
      "metadata": {
        "id": "view-in-github",
        "colab_type": "text"
      },
      "source": [
        "<a href=\"https://colab.research.google.com/github/polattamer/tamerpolat/blob/main/content/OOP08_Objects.ipynb\" target=\"_parent\"><img src=\"https://colab.research.google.com/assets/colab-badge.svg\" alt=\"Open In Colab\"/></a>"
      ]
    },
    {
      "cell_type": "markdown",
      "source": [
        "<table width=\"100%\">\n",
        "    <tr style=\"\">\n",
        "        <th style=\"text-align:left; padding:0px\" width=\"5%\">\n",
        "            <a href=\"https://www.marmara.edu.tr\" target=\"_blank\">\n",
        "                <img src=\"https://raw.githubusercontent.com/MU-Physics-Department/logos/master/mu_logo.png\">\n",
        "            </a>\n",
        "        </th>\n",
        "        <th style=\"padding:0px;\" width=\"35%\">\n",
        "            <img align=\"right\" src=\"https://raw.githubusercontent.com/MU-Physics-Department/logos/master/name.png\">\n",
        "        </th>\n",
        "        <th  width=\"20%\">\n",
        "            &nbsp;\n",
        "        </th>\n",
        "        <th style=\"padding:0px\" width=\"5%\">\n",
        "            <a href=\"https://www.sababozpolat.com\" target=\"_blank\" padding=\"0px\">\n",
        "                <img align=\"center\" src=\"https://raw.githubusercontent.com/MU-Physics-Department/logos/master/hp.png\">\n",
        "            </a>\n",
        "        </th>\n",
        "        <th style=\"padding:0px\" width=\"5%\">\n",
        "            <a href=\"mailto:saba.bozpolat@gmail.com\" target=\"_blank\">\n",
        "                <img align=\"center\" src=\"https://raw.githubusercontent.com/MU-Physics-Department/logos/master/email.png\">\n",
        "            </a>\n",
        "        </th>\n",
        "        <th style=\"padding:0px;\" width=\"5%\">\n",
        "            <a href=\"https://www.linkedin.com/in/saba-bozpolat-644856152/\" target=\"_blank\">\n",
        "                <img align=\"right\" src=\"https://raw.githubusercontent.com/MU-Physics-Department/logos/master/in.png\">\n",
        "            </a>\n",
        "        </th>\n",
        "        <th style=\"padding:0px;\" width=\"5%\">\n",
        "            <a href=\"https://scholar.google.com.tr/citations?user=nSiJoMYAAAAJ&hl=en\" target=\"_blank\">\n",
        "                <img align=\"right\" src=\"https://raw.githubusercontent.com/MU-Physics-Department/logos/master/GS.png\">\n",
        "            </a>\n",
        "        </th>\n",
        "        <th style=\"padding:0px;\" width=\"5%\">\n",
        "            <a href=\"https://www.researchgate.net/profile/Saba-Bozpolat\" target=\"_blank\">\n",
        "                <img align=\"right\" src=\"https://raw.githubusercontent.com/MU-Physics-Department/logos/master/RG.png\">\n",
        "            </a>\n",
        "        </th>\n",
        "        <th style=\"padding:0px\" width=\"5%\">\n",
        "            <a href=\"https://www.youtube.com/channel/UC8-uOZud6UL7oCOE2UUBunA\" target=\"_blank\">\n",
        "                <img align=\"right\" src=\"https://raw.githubusercontent.com/MU-Physics-Department/logos/master/YT.png\">\n",
        "            </a>\n",
        "        </th>\n",
        "        <th style=\"padding:0px;\" width=\"5%\">\n",
        "            <a href=\"https://github.com/sbbzplt\" target=\"_blank\">\n",
        "                <img align=\"right\" src=\"https://raw.githubusercontent.com/MU-Physics-Department/logos/master/GH.png\">\n",
        "            </a>\n",
        "        </th>\n",
        "        <th style=\"padding:0px;\" width=\"5%\">\n",
        "            <a href=\"https://join.slack.com/t/mu-fzk/shared_invite/zt-13jtd6dtd-g9zD5P4Zu0m5P0Gt2PNReQ\"\n",
        "               target=\"_blank\">\n",
        "                <img align=\"right\" src=\"https://raw.githubusercontent.com/MU-Physics-Department/logos/master/slack.png\">\n",
        "            </a>\n",
        "        </th>\n",
        "    </tr>\n",
        "</table>\n",
        "<table width=\"100%\">\n",
        "    <tr style=\"background-color:white;\">\n",
        "        <!-- <td style=\"text-align-left;padding:0px;\" width=\"10%\">\n",
        "            <a href=\"https://fef.marmara.edu.tr\"\n",
        "               target=\"_blank\">\n",
        "                <img align=\"right\" src=\"https://raw.githubusercontent.com/MU-Physics-Department/logos/master/fef.png\">\n",
        "            </a>\n",
        "        </td> -->\n",
        "        <td style=\"padding:0px\" width=\"25%\">\n",
        "            <a href=\"http://fzk.fef.marmara.edu.tr\"\n",
        "               target=\"_blank\">\n",
        "                <img align=\"right\" src=\"https://raw.githubusercontent.com/MU-Physics-Department/logos/master/fzk.png\">\n",
        "            </a>\n",
        "        </td>\n",
        "        <td width=\"10%\">\n",
        "            &nbsp;\n",
        "        </td>\n",
        "        <td style=\"padding:0px;\" width=\"65%\">\n",
        "            <a href=\"https://www.sababozpolat.com/lectures/spring-semester/scientific-programming\"\n",
        "               target=\"_blank\">\n",
        "                <img align=\"right\" src=\"https://raw.githubusercontent.com/MU-Physics-Department/logos/master/phys3011.png\">\n",
        "            </a>\n",
        "        </td>\n",
        "    </tr>\n",
        "</table>"
      ],
      "metadata": {
        "id": "LYDbVPHCwcOR"
      }
    },
    {
      "cell_type": "markdown",
      "source": [
        "# Objects\n",
        "\n",
        "In computer science, objects are a collection of primitive data types, data structures, and/or data containers. Generally, they also define the operations that can be done between their data units in various ways. They can be a variable, a data structure, a function, or a method. It is possible to create a custom object in most programming languages.\n"
      ],
      "metadata": {
        "id": "qJkmkbZERJgI"
      }
    },
    {
      "cell_type": "markdown",
      "source": [
        "# Object-oriented programming\n",
        "\n",
        "Object-oriented programming is an approach to designing modular reusable software systems. Object-orientation is simply the logical extension of older techniques such as structured programming and abstraction. An object is an abstract data type which consists of other primitive or complex data types with some functionality attached to them.\n",
        "\n",
        "<!-- Rather than structure programs as code and data, an object-oriented system integrates the two using the concept of an \"object\".  -->\n",
        "An object has state (data) and behavior (code). Objects can correspond to things found in the real world. So for example, a graphics program will have objects such as circle, square, menu. An online shopping system will have objects such as shopping cart, customer, product. The shopping system will support behaviors such as place order, make payment, and offer discount. The objects are designed as class hierarchies. So for example with the shopping system there might be high level classes such as electronics product, kitchen product, and book. There may be further refinements for example under electronic products: CD Player, DVD player, etc. These classes and subclasses correspond to sets and subsets in mathematical logic. [1]\n"
      ],
      "metadata": {
        "id": "PZKrie0YONXt"
      }
    },
    {
      "cell_type": "markdown",
      "source": [
        "<h3> Task 1 (on paper)</h3> \n",
        "\n",
        "See following figure and answer these questions.\n",
        " - How many vases are there in this figure?\n",
        " - How are they different from one another? Pick three vases from the figure and name all of their differences.\n",
        "\n",
        " - Try to find a common name for each different feature of the vases you have picked.\n",
        "\n",
        "<u>For example:</u>\n",
        "\n",
        "There are blue vase, green vase and orange vase in the figure.\n",
        "The common name of this feature is color.\n",
        "\n",
        "<img width=\"400\" src=\"https://github.com/MU-Physics-Department/logos/blob/master/for_phys3011/vases.png?raw=1\">\n",
        "\n",
        "* 6 vases in this figure.\n",
        "* Their lenghts are different each other.\n",
        "* Choosed 3 vases in this figure on the right. These vases lenght meterial and radius seems different from each other."
      ],
      "metadata": {
        "id": "rwEntNTWS3_W"
      }
    },
    {
      "cell_type": "markdown",
      "source": [
        "<h3> Task 2 (on paper)</h3> \n",
        "\n",
        "See following figure and answer these questions.\n",
        " - How many triangles are there in this figure?\n",
        " - How are they different from one another? Name all of their differences.\n",
        " - What are the common features all of them have? In other words, which entities a shape has to have in order to be a triangle?\n",
        "\n",
        "\n",
        "<img width=\"200\" src=\"https://github.com/MU-Physics-Department/logos/blob/master/for_phys3011/tringles.png?raw=1\">\n",
        "\n",
        "* 4 triangles in this figure.\n",
        "* These are different from each other because of the side lengths.\n",
        "* Their most common features seems like side lenghts. Can be their angle different also.\n"
      ],
      "metadata": {
        "id": "fHlU-lBkcWrW"
      }
    },
    {
      "cell_type": "markdown",
      "source": [
        "<h3> Task 3 (on paper)</h3> \n",
        "\n",
        "See following figure and answer these questions.\n",
        " - How many resistors are there in the figure?\n",
        " - How are they different from one another? Name all of their differences.\n",
        " - What are the common features all of them have? In other words, which entities a shape has to have in order to be a resistor?\n",
        "\n",
        "\n",
        "<img width=\"300\" src=\"https://github.com/MU-Physics-Department/logos/blob/master/for_phys3011/resistors.png?raw=true\">\n",
        "\n",
        "* 6 resistors in this figure.\n",
        "* Each resistors have 4 colors and these colors determine value of resistor.\n",
        "* "
      ],
      "metadata": {
        "id": "sC-X7WAIkfKF"
      }
    },
    {
      "cell_type": "markdown",
      "source": [
        "\n",
        "To effectively use object orientation in your programs, you should design your objects beforehand. This process is called as Object-oriented design."
      ],
      "metadata": {
        "id": "2TSIKy4WS3dI"
      }
    },
    {
      "cell_type": "markdown",
      "source": [
        "# References\n",
        "1. Wikipedia contributors. \"Object-oriented programming.\" Wikipedia, The Free Encyclopedia. Wikipedia, The Free Encyclopedia, 11 Nov. 2022. Web. 14 Nov. 2022."
      ],
      "metadata": {
        "id": "CwijFYEOQTat"
      }
    }
  ]
}