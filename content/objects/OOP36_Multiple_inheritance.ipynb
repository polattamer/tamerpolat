{
  "nbformat": 4,
  "nbformat_minor": 0,
  "metadata": {
    "colab": {
      "private_outputs": true,
      "provenance": [],
      "include_colab_link": true
    },
    "kernelspec": {
      "name": "python3",
      "display_name": "Python 3"
    },
    "language_info": {
      "name": "python"
    }
  },
  "cells": [
    {
      "cell_type": "markdown",
      "metadata": {
        "id": "view-in-github",
        "colab_type": "text"
      },
      "source": [
        "<a href=\"https://colab.research.google.com/github/polattamer/tamerpolat/blob/main/content/objects/OOP36_Multiple_inheritance.ipynb\" target=\"_parent\"><img src=\"https://colab.research.google.com/assets/colab-badge.svg\" alt=\"Open In Colab\"/></a>"
      ]
    },
    {
      "cell_type": "markdown",
      "source": [
        "<table width=\"100%\">\n",
        "    <tr style=\"\">\n",
        "        <th style=\"text-align:left; padding:0px\" width=\"5%\">\n",
        "            <a href=\"https://www.marmara.edu.tr\" target=\"_blank\">\n",
        "                <img src=\"https://raw.githubusercontent.com/MU-Physics-Department/logos/master/mu_logo.png\">\n",
        "            </a>\n",
        "        </th>\n",
        "        <th style=\"padding:0px;\" width=\"35%\">\n",
        "            <img align=\"right\" src=\"https://raw.githubusercontent.com/MU-Physics-Department/logos/master/name.png\">\n",
        "        </th>\n",
        "        <th  width=\"20%\">\n",
        "            &nbsp;\n",
        "        </th>\n",
        "        <th style=\"padding:0px\" width=\"5%\">\n",
        "            <a href=\"https://www.sababozpolat.com\" target=\"_blank\" padding=\"0px\">\n",
        "                <img align=\"center\" src=\"https://raw.githubusercontent.com/MU-Physics-Department/logos/master/hp.png\">\n",
        "            </a>\n",
        "        </th>\n",
        "        <th style=\"padding:0px\" width=\"5%\">\n",
        "            <a href=\"mailto:saba.bozpolat@gmail.com\" target=\"_blank\">\n",
        "                <img align=\"center\" src=\"https://raw.githubusercontent.com/MU-Physics-Department/logos/master/email.png\">\n",
        "            </a>\n",
        "        </th>\n",
        "        <th style=\"padding:0px;\" width=\"5%\">\n",
        "            <a href=\"https://www.linkedin.com/in/saba-bozpolat-644856152/\" target=\"_blank\">\n",
        "                <img align=\"right\" src=\"https://raw.githubusercontent.com/MU-Physics-Department/logos/master/in.png\">\n",
        "            </a>\n",
        "        </th>\n",
        "        <th style=\"padding:0px;\" width=\"5%\">\n",
        "            <a href=\"https://scholar.google.com.tr/citations?user=nSiJoMYAAAAJ&hl=en\" target=\"_blank\">\n",
        "                <img align=\"right\" src=\"https://raw.githubusercontent.com/MU-Physics-Department/logos/master/GS.png\">\n",
        "            </a>\n",
        "        </th>\n",
        "        <th style=\"padding:0px;\" width=\"5%\">\n",
        "            <a href=\"https://www.researchgate.net/profile/Saba-Bozpolat\" target=\"_blank\">\n",
        "                <img align=\"right\" src=\"https://raw.githubusercontent.com/MU-Physics-Department/logos/master/RG.png\">\n",
        "            </a>\n",
        "        </th>\n",
        "        <th style=\"padding:0px\" width=\"5%\">\n",
        "            <a href=\"https://www.youtube.com/channel/UC8-uOZud6UL7oCOE2UUBunA\" target=\"_blank\">\n",
        "                <img align=\"right\" src=\"https://raw.githubusercontent.com/MU-Physics-Department/logos/master/YT.png\">\n",
        "            </a>\n",
        "        </th>\n",
        "        <th style=\"padding:0px;\" width=\"5%\">\n",
        "            <a href=\"https://github.com/sbbzplt\" target=\"_blank\">\n",
        "                <img align=\"right\" src=\"https://raw.githubusercontent.com/MU-Physics-Department/logos/master/GH.png\">\n",
        "            </a>\n",
        "        </th>\n",
        "        <th style=\"padding:0px;\" width=\"5%\">\n",
        "            <a href=\"https://join.slack.com/t/mu-fzk/shared_invite/zt-13jtd6dtd-g9zD5P4Zu0m5P0Gt2PNReQ\"\n",
        "               target=\"_blank\">\n",
        "                <img align=\"right\" src=\"https://raw.githubusercontent.com/MU-Physics-Department/logos/master/slack.png\">\n",
        "            </a>\n",
        "        </th>\n",
        "    </tr>\n",
        "</table>\n",
        "<table width=\"100%\">\n",
        "    <tr style=\"background-color:white;\">\n",
        "        <!-- <td style=\"text-align-left;padding:0px;\" width=\"10%\">\n",
        "            <a href=\"https://fef.marmara.edu.tr\"\n",
        "               target=\"_blank\">\n",
        "                <img align=\"right\" src=\"https://raw.githubusercontent.com/MU-Physics-Department/logos/master/fef.png\">\n",
        "            </a>\n",
        "        </td> -->\n",
        "        <td style=\"padding:0px\" width=\"25%\">\n",
        "            <a href=\"http://fzk.fef.marmara.edu.tr\"\n",
        "               target=\"_blank\">\n",
        "                <img align=\"right\" src=\"https://raw.githubusercontent.com/MU-Physics-Department/logos/master/fzk.png\">\n",
        "            </a>\n",
        "        </td>\n",
        "        <td width=\"10%\">\n",
        "            &nbsp;\n",
        "        </td>\n",
        "        <td style=\"padding:0px;\" width=\"65%\">\n",
        "            <a href=\"https://www.sababozpolat.com/lectures/spring-semester/scientific-programming\"\n",
        "               target=\"_blank\">\n",
        "                <img align=\"right\" src=\"https://raw.githubusercontent.com/MU-Physics-Department/logos/master/phys3011.png\">\n",
        "            </a>\n",
        "        </td>\n",
        "    </tr>\n",
        "</table>"
      ],
      "metadata": {
        "id": "wzheh7Qf3t9L"
      }
    },
    {
      "cell_type": "markdown",
      "source": [
        "# Multiple Inheritance"
      ],
      "metadata": {
        "id": "SjbQzpbR4B1H"
      }
    },
    {
      "cell_type": "markdown",
      "source": [
        "Multiple inheritance is a feature of some object-oriented programming languages in which a class can inherit features from more than one parent class. Multiple inheritance allows programmers to use more than one totally orthogonal hierarchy simultaneously. For example Cat class may inherit from Cartoon character and Pet and Mammal, and access features from within all of those classes.\n",
        "\n",
        "The need of multiple inheritance arise when the developer designs their project with _part-of_ hierarchy. In this type of hierarchy, the child object contains more than one parent each of which is actually another part of itself.\n",
        "\n",
        "<img width=\"80%\" src=\"https://raw.githubusercontent.com/MU-Physics-Department/logos/master/for_phys3011/part_of_hierarchy.png\">\n",
        "\n",
        "In the figure above, petal, stamen, carpel and other possible parent classes are all different parts of a flower which is the child class in this example.\n",
        "\n",
        "When created by multiple inheritance, the child includes all features and methods from all parents.\n",
        "\n",
        "<img width=\"40%\" src=\"https://github.com/MU-Physics-Department/logos/blob/master/for_phys3011/multiple_inheritance.png?raw=true\">"
      ],
      "metadata": {
        "id": "h92MPmWJ4LlI"
      }
    },
    {
      "cell_type": "markdown",
      "source": [
        "# Implementation of Multiple Inheritance"
      ],
      "metadata": {
        "id": "IHhZJ8qm508I"
      }
    },
    {
      "cell_type": "markdown",
      "source": [
        "Inherit from more than one parent class is done by indicating all of the parent classes' names seperated by commas. \n",
        "\n",
        "``` python\n",
        "class Parent1:\n",
        "    def __init__(self, a, b):\n",
        "        self.a = a\n",
        "        self.b = b\n",
        "\n",
        "\n",
        "class Parent2:\n",
        "    def __init__(self, c, d):\n",
        "        self.c = c\n",
        "        self.d = d\n",
        "\n",
        "\n",
        "class Child(Parent1, Parent2):\n",
        "    pass\n",
        "```"
      ],
      "metadata": {
        "id": "HE3WZXf_7NoQ"
      }
    },
    {
      "cell_type": "markdown",
      "source": [
        "<h3>Task 1</h3>\n",
        "\n",
        "Revise [Task 2](https://github.com/MU-Physics-Department/PHYS3011/blob/master/content/objects/OOP32_Hierarchy.ipynb) from previous notebook and remember your object-oriented design for resistor, capacitor, bulb, diode and led objects along with their child. Implement your design below."
      ],
      "metadata": {
        "id": "vuK6fZRx_-xf"
      }
    },
    {
      "cell_type": "code",
      "source": [
        "class CircuitElements():\n",
        "    def __init__(self,name,heat_capacity):\n",
        "        self.name = name\n",
        "        self.heat_capacity = heat_capacity\n",
        "\n",
        "    def method_CircuitElements(self, use electricity):\n",
        "        return\n",
        "\n",
        "\n",
        "\n",
        "class resistor(CircuitElements):\n",
        "    def __init__(self, name, colour_code, tolerans):\n",
        "        self.colour_code = colour_code\n",
        "        self.tolerans = tolerans\n",
        "\n",
        "\n",
        "class capacitor:\n",
        "    def __init__(self, c, d):\n",
        "        self.c = c\n",
        "        self.d = d\n",
        "\n",
        "class bulb:\n",
        "    def __init__(self, a, b):\n",
        "        self.a = a\n",
        "        self.b = b\n",
        "\n",
        "\n",
        "class diode:\n",
        "    def __init__(self, c, d):\n",
        "        self.c = c\n",
        "        self.d = d\n",
        "\n",
        "class led:\n",
        "    def __init__(self, a, b):\n",
        "        self.a = a\n",
        "        self.b = b\n"
      ],
      "metadata": {
        "id": "L3RxrKlEBOYO"
      },
      "execution_count": null,
      "outputs": []
    },
    {
      "cell_type": "markdown",
      "source": [
        "Multiple inheritance has been a controversial issue with opponents pointing to its increased complexity and ambiguity in the code flow. It can create some situations such as the \"diamond problem\", where it may be ambiguous as to which parent class a particular feature is inherited from if more than one parent class implements said feature. This can be addressed in various ways, including using virtual inheritance."
      ],
      "metadata": {
        "id": "WAxlV6nmBTRm"
      }
    }
  ]
}