{
  "nbformat": 4,
  "nbformat_minor": 0,
  "metadata": {
    "colab": {
      "private_outputs": true,
      "provenance": [],
      "toc_visible": true,
      "include_colab_link": true
    },
    "kernelspec": {
      "name": "python3",
      "display_name": "Python 3"
    },
    "language_info": {
      "name": "python"
    }
  },
  "cells": [
    {
      "cell_type": "markdown",
      "metadata": {
        "id": "view-in-github",
        "colab_type": "text"
      },
      "source": [
        "<a href=\"https://colab.research.google.com/github/polattamer/tamerpolat/blob/main/content/objects/OOP16_Object_implementation.ipynb\" target=\"_parent\"><img src=\"https://colab.research.google.com/assets/colab-badge.svg\" alt=\"Open In Colab\"/></a>"
      ]
    },
    {
      "cell_type": "markdown",
      "source": [
        "<table width=\"100%\">\n",
        "    <tr style=\"\">\n",
        "        <th style=\"text-align:left; padding:0px\" width=\"5%\">\n",
        "            <a href=\"https://www.marmara.edu.tr\" target=\"_blank\">\n",
        "                <img src=\"https://raw.githubusercontent.com/MU-Physics-Department/logos/master/mu_logo.png\">\n",
        "            </a>\n",
        "        </th>\n",
        "        <th style=\"padding:0px;\" width=\"35%\">\n",
        "            <img align=\"right\" src=\"https://raw.githubusercontent.com/MU-Physics-Department/logos/master/name.png\">\n",
        "        </th>\n",
        "        <th  width=\"20%\">\n",
        "            &nbsp;\n",
        "        </th>\n",
        "        <th style=\"padding:0px\" width=\"5%\">\n",
        "            <a href=\"https://www.sababozpolat.com\" target=\"_blank\" padding=\"0px\">\n",
        "                <img align=\"center\" src=\"https://raw.githubusercontent.com/MU-Physics-Department/logos/master/hp.png\">\n",
        "            </a>\n",
        "        </th>\n",
        "        <th style=\"padding:0px\" width=\"5%\">\n",
        "            <a href=\"mailto:saba.bozpolat@gmail.com\" target=\"_blank\">\n",
        "                <img align=\"center\" src=\"https://raw.githubusercontent.com/MU-Physics-Department/logos/master/email.png\">\n",
        "            </a>\n",
        "        </th>\n",
        "        <th style=\"padding:0px;\" width=\"5%\">\n",
        "            <a href=\"https://www.linkedin.com/in/saba-bozpolat-644856152/\" target=\"_blank\">\n",
        "                <img align=\"right\" src=\"https://raw.githubusercontent.com/MU-Physics-Department/logos/master/in.png\">\n",
        "            </a>\n",
        "        </th>\n",
        "        <th style=\"padding:0px;\" width=\"5%\">\n",
        "            <a href=\"https://scholar.google.com.tr/citations?user=nSiJoMYAAAAJ&hl=en\" target=\"_blank\">\n",
        "                <img align=\"right\" src=\"https://raw.githubusercontent.com/MU-Physics-Department/logos/master/GS.png\">\n",
        "            </a>\n",
        "        </th>\n",
        "        <th style=\"padding:0px;\" width=\"5%\">\n",
        "            <a href=\"https://www.researchgate.net/profile/Saba-Bozpolat\" target=\"_blank\">\n",
        "                <img align=\"right\" src=\"https://raw.githubusercontent.com/MU-Physics-Department/logos/master/RG.png\">\n",
        "            </a>\n",
        "        </th>\n",
        "        <th style=\"padding:0px\" width=\"5%\">\n",
        "            <a href=\"https://www.youtube.com/channel/UC8-uOZud6UL7oCOE2UUBunA\" target=\"_blank\">\n",
        "                <img align=\"right\" src=\"https://raw.githubusercontent.com/MU-Physics-Department/logos/master/YT.png\">\n",
        "            </a>\n",
        "        </th>\n",
        "        <th style=\"padding:0px;\" width=\"5%\">\n",
        "            <a href=\"https://github.com/sbbzplt\" target=\"_blank\">\n",
        "                <img align=\"right\" src=\"https://raw.githubusercontent.com/MU-Physics-Department/logos/master/GH.png\">\n",
        "            </a>\n",
        "        </th>\n",
        "        <th style=\"padding:0px;\" width=\"5%\">\n",
        "            <a href=\"https://join.slack.com/t/mu-fzk/shared_invite/zt-13jtd6dtd-g9zD5P4Zu0m5P0Gt2PNReQ\"\n",
        "               target=\"_blank\">\n",
        "                <img align=\"right\" src=\"https://raw.githubusercontent.com/MU-Physics-Department/logos/master/slack.png\">\n",
        "            </a>\n",
        "        </th>\n",
        "    </tr>\n",
        "</table>\n",
        "<table width=\"100%\">\n",
        "    <tr style=\"background-color:white;\">\n",
        "        <!-- <td style=\"text-align-left;padding:0px;\" width=\"10%\">\n",
        "            <a href=\"https://fef.marmara.edu.tr\"\n",
        "               target=\"_blank\">\n",
        "                <img align=\"right\" src=\"https://raw.githubusercontent.com/MU-Physics-Department/logos/master/fef.png\">\n",
        "            </a>\n",
        "        </td> -->\n",
        "        <td style=\"padding:0px\" width=\"25%\">\n",
        "            <a href=\"http://fzk.fef.marmara.edu.tr\"\n",
        "               target=\"_blank\">\n",
        "                <img align=\"right\" src=\"https://raw.githubusercontent.com/MU-Physics-Department/logos/master/fzk.png\">\n",
        "            </a>\n",
        "        </td>\n",
        "        <td width=\"10%\">\n",
        "            &nbsp;\n",
        "        </td>\n",
        "        <td style=\"padding:0px;\" width=\"65%\">\n",
        "            <a href=\"https://www.sababozpolat.com/lectures/spring-semester/scientific-programming\"\n",
        "               target=\"_blank\">\n",
        "                <img align=\"right\" src=\"https://raw.githubusercontent.com/MU-Physics-Department/logos/master/phys3011.png\">\n",
        "            </a>\n",
        "        </td>\n",
        "    </tr>\n",
        "</table>"
      ],
      "metadata": {
        "id": "LYDbVPHCwcOR"
      }
    },
    {
      "cell_type": "markdown",
      "source": [
        "# Object Implementation\n",
        "\n",
        "In Python objects are implemented by classes."
      ],
      "metadata": {
        "id": "qJkmkbZERJgI"
      }
    },
    {
      "cell_type": "markdown",
      "source": [
        "## Class\n",
        "\n",
        "In object-oriented programming, a class is an code template for creating objects. It provides initial or default values ​​for the variables (features) and implements the functionality within the class itself and with other classes."
      ],
      "metadata": {
        "id": "ADwwI52tgAZN"
      }
    },
    {
      "cell_type": "markdown",
      "source": [
        "### Class Implementation\n",
        "To implement the object, we need to name it properly and identify its features. The features are called as \"attributes of the object\" in technical terms. In Python, the implementation of a basic class is as follows.\n",
        "\n",
        "``` python\n",
        "1  class MyClass:  # name of the class\n",
        "2     def __init__(self, a, b):  # initialization method\n",
        "3         self.x = a  # assignment of the value a to the attribute x. \n",
        "4         self.y = b  # assignment of the value b to the attribute y.\n",
        "```\n",
        "\n",
        "Let's investigate the code line by line. \n",
        "1. At the first line we have the declaration of the class. The name of the class is \"MyClass\". Later in the code, all the necessary objects will be defined by using this name.\n",
        "2. At line 2, a method named as \"```__init__```\" \n",
        "is defined. This is a special method for classes in Python which performs the initialization of the object during instancing. In this example, there are 3 arguments of ```__init__```\n",
        "method. <u>**The first one always has to be \"```self```\"\n",
        ".**</u> We'll disscuss what happens if you forget \"```self```\" argument, later.\n",
        "3. At lines 3 and 4, attributes of the object are assigned. Left of the assignment operator is the declaration of the attribute variable and at the right side of the assignment operator, the value of related the attribute variable is provided.\n",
        "\n",
        "**Attention!** Initialization function of the class __does not__ return anything explicitly.\n",
        "\n",
        "Following is an example of a simple object."
      ],
      "metadata": {
        "id": "WUy1zHPjhjod"
      }
    },
    {
      "cell_type": "markdown",
      "source": [
        "<h3> Task 1 </h3> \n",
        "\n",
        "Consider the task from an earlier lecture. Following is the figure given in that task.\n",
        "\n",
        "Provided object-oriented design is as follows.\n",
        " - Object: Vase\n",
        " - Features: Color, Length, Radius, Material, Opaqueness, Style\n",
        "\n",
        "Write the code for declaration of the class for this object.\n",
        "\n",
        "<img width=\"400\" src=\"https://github.com/MU-Physics-Department/logos/blob/master/for_phys3011/vases.png?raw=1\">\n",
        "\n"
      ],
      "metadata": {
        "id": "i_WaWTtzlsrE"
      }
    },
    {
      "cell_type": "code",
      "source": [
        "# \n",
        "# your code here\n",
        "# \n",
        "class Vase:\n",
        "    def __init(self, a, b, c, d, e, f):\n",
        "        self.color = a\n",
        "        self.Length = b\n",
        "        self.Radius = c  \n",
        "        self.Material = d\n",
        "        self.Opaqueness = e\n",
        "        self.Style = f"
      ],
      "metadata": {
        "id": "sxXoGv6nmULr"
      },
      "execution_count": null,
      "outputs": []
    },
    {
      "cell_type": "markdown",
      "source": [
        "<h3> Task 2</h3> \n",
        "\n",
        "Consider the task from an earlier lecture. Following is the figure given in that task.\n",
        "\n",
        "Provided object-oriented design is as follows.\n",
        "\n",
        "| Object  | Features/Attributes |\n",
        "|---------|---------------------|\n",
        "| Scissor | Brand, Color, Price |\n",
        "| Marker  | Brand, Color, Price |\n",
        "| Post-it | Brand, Color, Price |\n",
        "\n",
        "<img width=\"400\" src=\"https://github.com/MU-Physics-Department/logos/blob/master/for_phys3011/office_supplies.jpg?raw=true\">"
      ],
      "metadata": {
        "id": "VE7dPQh2qwtl"
      }
    },
    {
      "cell_type": "code",
      "source": [
        "\n",
        "class Scissor:\n",
        "    def __init__(self,a,b,c):\n",
        "        self.Brand = a \n",
        "        self.Color = b\n",
        "        self.Price = c \n",
        "class Marker:\n",
        "    def __init__(self,a,b,c):\n",
        "        self.Brand = a \n",
        "        self.Color = b\n",
        "        self.Price = c \n",
        "        class Marker:\n",
        "class Post-it:\n",
        "    def __init__(self,a,b,c):\n",
        "        self.Brand = a \n",
        "        self.Color = b\n",
        "        self.Price = c \n",
        "    "
      ],
      "metadata": {
        "id": "Hx0kbCuIqyFE"
      },
      "execution_count": null,
      "outputs": []
    },
    {
      "cell_type": "markdown",
      "source": [
        "<h3> Task 3</h3> \n",
        "\n",
        "Consider the task from an earlier lecture. Following is the figure given in that task.\n",
        "\n",
        "Provided object-oriented design is as follows.\n",
        "\n",
        "| Object  | Features/Attributes |\n",
        "|---------|---------------------|\n",
        "| Circle  | Radius |\n",
        "| Square  | Side Length |\n",
        "| Triangle | Side Length \\#1, Side Length \\#2, <br> Side Length \\#3, <br> Angle \\#1, Angle \\#2, Angle \\#3 |\n",
        "| Rectangle | Side Length \\#1, Side Length \\#2 |\n",
        "\n",
        "<img width=\"500\" src=\"https://github.com/MU-Physics-Department/logos/blob/master/for_phys3011/shapes.jpg?raw=true\">"
      ],
      "metadata": {
        "id": "0m7vbUDIqyRM"
      }
    },
    {
      "cell_type": "code",
      "source": [
        "# \n",
        "# your code here\n",
        "# \n"
      ],
      "metadata": {
        "id": "hqOiOvBOqykL"
      },
      "execution_count": null,
      "outputs": []
    },
    {
      "cell_type": "markdown",
      "source": [
        "<h3> Task 4</h3> \n",
        "\n",
        "Consider the task from an earlier lecture. Following is the figure given in that task.\n",
        "\n",
        "Provided object-oriented design is as follows.\n",
        "\n",
        "| Object  | Features/Attributes |\n",
        "|---------|---------------------|\n",
        "| Satellite    | Name, Mass, Radius, Gravitational Acceleration |\n",
        "| Planet       | Name, Mass, Radius, Gravitational Acceleration, Aphelion, Perihelion,<br> Eccentricity, Mean Density |\n",
        "| Star         | Name, Mass, Radius, Gravitational Acceleration, Mean Density, <br>Luminosity, Temperature, Metallicity, Spectral Type, Distance |\n",
        "| Red Giant    | Name, Mass, Radius, Gravitational Acceleration, Mean Density,<br> Luminosity, Temperature, Distance |\n",
        "| Neutron Star | Name, Mass, Radius, Gravitational Acceleration, Spectral Type, <br>Period,  Eccentricity, Distance |\n",
        "| White Dwarf  | Name, Mass, Radius, Gravitational Acceleration, Distance |\n",
        "| Blackhole    | Name, Mass, Radius, Gravitational Acceleration, Spin, Charge, Distance |\n",
        "\n",
        "<img width=\"500\" src=\"https://github.com/MU-Physics-Department/logos/blob/master/for_phys3011/gokcisimleri.png?raw=true\">"
      ],
      "metadata": {
        "id": "jrzI-ybsqy5s"
      }
    },
    {
      "cell_type": "code",
      "source": [
        "# \n",
        "# your code here\n",
        "# \n"
      ],
      "metadata": {
        "id": "0LqxqRrNqzIL"
      },
      "execution_count": null,
      "outputs": []
    },
    {
      "cell_type": "markdown",
      "source": [
        "### How to name the argument of ```__init__``` function?\n",
        "\n",
        "Previously in this lecture, the names of attributes and the arguments of ```__init__``` \n",
        "function are named differently. In common practices, it is tradition to name them the same to prevent any possible confusion. Here is an example:\n",
        "\n",
        "``` python\n",
        "1  class MyClass:  # name of the class\n",
        "2     def __init__(self, x, y):  # initialization method\n",
        "3         self.x = x  # assignment of the value a to the attribute x. \n",
        "4         self.y = y  # assignment of the value b to the attribute y.\n",
        "```\n",
        "\n",
        "Please note that ```x``` \n",
        "and ```self.x``` \n",
        "point to different regions on the memory. \n",
        "Therefore at line 2, the value pointed by ```x``` \n",
        "is assigned to the ```self.x``` \n",
        "and stored in the memory region pointed by ```self.x``` .\n",
        "This case stands for ```y```\n",
        "and ```self.y```\n",
        ", as well.\n"
      ],
      "metadata": {
        "id": "uQRjumemnQqD"
      }
    },
    {
      "cell_type": "markdown",
      "source": [
        "<h3> Task 5 </h3> \n",
        "\n",
        "Redo Task 4 with same attribute and argument names.\n"
      ],
      "metadata": {
        "id": "5s4ACSWlrFnX"
      }
    },
    {
      "cell_type": "code",
      "source": [
        "# \n",
        "# your code here\n",
        "# \n",
        "class Satellite:\n",
        "    def __init__(self, name, mass, radius):\n",
        "        self.name = name\n",
        "        self.mass = mass\n",
        "        self.radius = radius"
      ],
      "metadata": {
        "id": "U1aPaJgtocfz"
      },
      "execution_count": null,
      "outputs": []
    }
  ]
}