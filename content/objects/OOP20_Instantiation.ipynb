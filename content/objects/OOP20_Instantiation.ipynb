{
  "nbformat": 4,
  "nbformat_minor": 0,
  "metadata": {
    "colab": {
      "private_outputs": true,
      "provenance": [],
      "toc_visible": true,
      "include_colab_link": true
    },
    "kernelspec": {
      "name": "python3",
      "display_name": "Python 3"
    },
    "language_info": {
      "name": "python"
    }
  },
  "cells": [
    {
      "cell_type": "markdown",
      "metadata": {
        "id": "view-in-github",
        "colab_type": "text"
      },
      "source": [
        "<a href=\"https://colab.research.google.com/github/polattamer/tamerpolat/blob/main/content/objects/OOP20_Instantiation.ipynb\" target=\"_parent\"><img src=\"https://colab.research.google.com/assets/colab-badge.svg\" alt=\"Open In Colab\"/></a>"
      ]
    },
    {
      "cell_type": "markdown",
      "source": [
        "<table width=\"100%\">\n",
        "    <tr style=\"\">\n",
        "        <th style=\"text-align:left; padding:0px\" width=\"5%\">\n",
        "            <a href=\"https://www.marmara.edu.tr\" target=\"_blank\">\n",
        "                <img src=\"https://raw.githubusercontent.com/MU-Physics-Department/logos/master/mu_logo.png\">\n",
        "            </a>\n",
        "        </th>\n",
        "        <th style=\"padding:0px;\" width=\"35%\">\n",
        "            <img align=\"right\" src=\"https://raw.githubusercontent.com/MU-Physics-Department/logos/master/name.png\">\n",
        "        </th>\n",
        "        <th  width=\"20%\">\n",
        "            &nbsp;\n",
        "        </th>\n",
        "        <th style=\"padding:0px\" width=\"5%\">\n",
        "            <a href=\"https://www.sababozpolat.com\" target=\"_blank\" padding=\"0px\">\n",
        "                <img align=\"center\" src=\"https://raw.githubusercontent.com/MU-Physics-Department/logos/master/hp.png\">\n",
        "            </a>\n",
        "        </th>\n",
        "        <th style=\"padding:0px\" width=\"5%\">\n",
        "            <a href=\"mailto:saba.bozpolat@gmail.com\" target=\"_blank\">\n",
        "                <img align=\"center\" src=\"https://raw.githubusercontent.com/MU-Physics-Department/logos/master/email.png\">\n",
        "            </a>\n",
        "        </th>\n",
        "        <th style=\"padding:0px;\" width=\"5%\">\n",
        "            <a href=\"https://www.linkedin.com/in/saba-bozpolat-644856152/\" target=\"_blank\">\n",
        "                <img align=\"right\" src=\"https://raw.githubusercontent.com/MU-Physics-Department/logos/master/in.png\">\n",
        "            </a>\n",
        "        </th>\n",
        "        <th style=\"padding:0px;\" width=\"5%\">\n",
        "            <a href=\"https://scholar.google.com.tr/citations?user=nSiJoMYAAAAJ&hl=en\" target=\"_blank\">\n",
        "                <img align=\"right\" src=\"https://raw.githubusercontent.com/MU-Physics-Department/logos/master/GS.png\">\n",
        "            </a>\n",
        "        </th>\n",
        "        <th style=\"padding:0px;\" width=\"5%\">\n",
        "            <a href=\"https://www.researchgate.net/profile/Saba-Bozpolat\" target=\"_blank\">\n",
        "                <img align=\"right\" src=\"https://raw.githubusercontent.com/MU-Physics-Department/logos/master/RG.png\">\n",
        "            </a>\n",
        "        </th>\n",
        "        <th style=\"padding:0px\" width=\"5%\">\n",
        "            <a href=\"https://www.youtube.com/channel/UC8-uOZud6UL7oCOE2UUBunA\" target=\"_blank\">\n",
        "                <img align=\"right\" src=\"https://raw.githubusercontent.com/MU-Physics-Department/logos/master/YT.png\">\n",
        "            </a>\n",
        "        </th>\n",
        "        <th style=\"padding:0px;\" width=\"5%\">\n",
        "            <a href=\"https://github.com/sbbzplt\" target=\"_blank\">\n",
        "                <img align=\"right\" src=\"https://raw.githubusercontent.com/MU-Physics-Department/logos/master/GH.png\">\n",
        "            </a>\n",
        "        </th>\n",
        "        <th style=\"padding:0px;\" width=\"5%\">\n",
        "            <a href=\"https://join.slack.com/t/mu-fzk/shared_invite/zt-13jtd6dtd-g9zD5P4Zu0m5P0Gt2PNReQ\"\n",
        "               target=\"_blank\">\n",
        "                <img align=\"right\" src=\"https://raw.githubusercontent.com/MU-Physics-Department/logos/master/slack.png\">\n",
        "            </a>\n",
        "        </th>\n",
        "    </tr>\n",
        "</table>\n",
        "<table width=\"100%\">\n",
        "    <tr style=\"background-color:white;\">\n",
        "        <!-- <td style=\"text-align-left;padding:0px;\" width=\"10%\">\n",
        "            <a href=\"https://fef.marmara.edu.tr\"\n",
        "               target=\"_blank\">\n",
        "                <img align=\"right\" src=\"https://raw.githubusercontent.com/MU-Physics-Department/logos/master/fef.png\">\n",
        "            </a>\n",
        "        </td> -->\n",
        "        <td style=\"padding:0px\" width=\"25%\">\n",
        "            <a href=\"http://fzk.fef.marmara.edu.tr\"\n",
        "               target=\"_blank\">\n",
        "                <img align=\"right\" src=\"https://raw.githubusercontent.com/MU-Physics-Department/logos/master/fzk.png\">\n",
        "            </a>\n",
        "        </td>\n",
        "        <td width=\"10%\">\n",
        "            &nbsp;\n",
        "        </td>\n",
        "        <td style=\"padding:0px;\" width=\"65%\">\n",
        "            <a href=\"https://www.sababozpolat.com/lectures/spring-semester/scientific-programming\"\n",
        "               target=\"_blank\">\n",
        "                <img align=\"right\" src=\"https://raw.githubusercontent.com/MU-Physics-Department/logos/master/phys3011.png\">\n",
        "            </a>\n",
        "        </td>\n",
        "    </tr>\n",
        "</table>"
      ],
      "metadata": {
        "id": "LYDbVPHCwcOR"
      }
    },
    {
      "cell_type": "markdown",
      "source": [
        "# Instance\n",
        "\n",
        "In object oriented programming, an instance is a specific realization of an object. "
      ],
      "metadata": {
        "id": "nE6rhkyBrtqC"
      }
    },
    {
      "cell_type": "markdown",
      "source": [
        "## Creating an instance\n",
        "\n",
        "In order to create an instance, the class decleration of the object should already be written. After the decleration, as many instances as desired can be created via calling the class by its name. To refer the instance later in the program, it has to be assigned to a variable.\n",
        "\n",
        "Following is a basic instance creation in Python.\n",
        "\n",
        "``` python\n",
        "my_class_instance = MyClass(3, 5)\n",
        "\n",
        "```\n",
        "\n",
        "There are two important issues need to be addressed clearly. The first one is that, during instance creation ```self``` attribute is not written explicitly. The other one is the ```__init__``` function to be called automatically at the same time as the instance creation."
      ],
      "metadata": {
        "id": "Mrry8fGkphiD"
      }
    },
    {
      "cell_type": "markdown",
      "source": [
        "<h3> Task 1 </h3> \n",
        "\n",
        "Create given list of instances via Vase class you have declerated previously.\n",
        "\n",
        " | Color      | Length  | Radius | Material | Opaqueness |  Style    | \n",
        " |------------|---------|--------|----------|------------|-----------|\n",
        " | Orange     | 22 cm   | 4 cm   | Seramic  |    0.9     | Foyer     |\n",
        " | Green      | 18 cm   | 1.5 cm | Seramic  |    0.7     | Saloon    |\n",
        " | Blue       | 10 cm   | 2 cm   | Seramic  |    0.4     | Bathroom  |\n",
        " | Anthracite | 14 cm   | 3 cm   | Seramic  |    0.94    | Bathroom  |\n",
        " "
      ],
      "metadata": {
        "id": "zfzFk8uwDq-A"
      }
    },
    {
      "cell_type": "code",
      "source": [
        "# \n",
        "# your code here\n",
        "# \n",
        "class Vase:\n",
        "    def __init__(self, color, lenght, radius, meterial, opaqueness, style):\n",
        "        self.color = color\n",
        "        self.lenght = lenght\n",
        "        self.radius = radius  \n",
        "        self.meterial = meterial\n",
        "        self.opaqueness = opaqueness\n",
        "        self.style = style"
      ],
      "metadata": {
        "id": "6c3VWTYfDrfo"
      },
      "execution_count": null,
      "outputs": []
    },
    {
      "cell_type": "markdown",
      "source": [
        "<h3> Task 2 </h3> \n",
        "\n",
        "Search and prepare a list of instances for the classes from Task 4 and create them accordingly.\n",
        "\n"
      ],
      "metadata": {
        "id": "DFE0lwEZFwrR"
      }
    },
    {
      "cell_type": "code",
      "source": [
        "  orange_vase = Vase(\"orange\", 22, 4, \"seramic\",)"
      ],
      "metadata": {
        "id": "ZZQ2BN4XYPTY"
      },
      "execution_count": null,
      "outputs": []
    },
    {
      "cell_type": "code",
      "source": [
        "# \n",
        "# your code here\n",
        "# \n",
        "class Satellite:\n",
        "  def __init(self, name, mass, radius, gravitational_acceleration):\n",
        "    self.name = name\n",
        "    self.mass = mass\n",
        "    self.radius = radius  \n",
        "    self.gravitational_acceleration = gravitational_acceleration\n",
        "\n",
        "class Star:\n",
        "  def __init(self, name, mass, radius, gravitational_acceleration, mean_density,\n",
        "luminosity, temperature, metallicity, spectral_type, distance):\n",
        "    self.name = name\n",
        "    self.mass = mass\n",
        "    self.radius = radius  \n",
        "    self.gravitational_acceleration = gravitational_acceleration      \n",
        "    self.mean_density = mean_density\n",
        "    self.luminosity = luminosity  \n",
        "    self.temperature = temperature\n",
        "    self.metallicity = spectral_type\n",
        "    self.distance = distance   \n",
        "\n",
        "moon = Satellite(\"moon\", 7.34e22, 1.737e6, 1.62)"
      ],
      "metadata": {
        "id": "kWXQDHnCGA24"
      },
      "execution_count": null,
      "outputs": []
    },
    {
      "cell_type": "markdown",
      "source": [
        "## What happens if ```self``` attribute is forgotten?"
      ],
      "metadata": {
        "id": "NVc5FML7nCQz"
      }
    },
    {
      "cell_type": "code",
      "source": [
        "class Vase:\n",
        "    def __init__()"
      ],
      "metadata": {
        "id": "ZJx1LlyJnMRK"
      },
      "execution_count": null,
      "outputs": []
    }
  ]
}