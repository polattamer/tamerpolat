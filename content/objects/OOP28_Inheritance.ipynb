{
  "nbformat": 4,
  "nbformat_minor": 0,
  "metadata": {
    "colab": {
      "private_outputs": true,
      "provenance": [],
      "include_colab_link": true
    },
    "kernelspec": {
      "name": "python3",
      "display_name": "Python 3"
    },
    "language_info": {
      "name": "python"
    }
  },
  "cells": [
    {
      "cell_type": "markdown",
      "metadata": {
        "id": "view-in-github",
        "colab_type": "text"
      },
      "source": [
        "<a href=\"https://colab.research.google.com/github/polattamer/tamerpolat/blob/main/content/objects/OOP28_Inheritance.ipynb\" target=\"_parent\"><img src=\"https://colab.research.google.com/assets/colab-badge.svg\" alt=\"Open In Colab\"/></a>"
      ]
    },
    {
      "cell_type": "markdown",
      "source": [
        "<table width=\"100%\">\n",
        "    <tr style=\"\">\n",
        "        <th style=\"text-align:left; padding:0px\" width=\"5%\">\n",
        "            <a href=\"https://www.marmara.edu.tr\" target=\"_blank\">\n",
        "                <img src=\"https://raw.githubusercontent.com/MU-Physics-Department/logos/master/mu_logo.png\">\n",
        "            </a>\n",
        "        </th>\n",
        "        <th style=\"padding:0px;\" width=\"35%\">\n",
        "            <img align=\"right\" src=\"https://raw.githubusercontent.com/MU-Physics-Department/logos/master/name.png\">\n",
        "        </th>\n",
        "        <th  width=\"20%\">\n",
        "            &nbsp;\n",
        "        </th>\n",
        "        <th style=\"padding:0px\" width=\"5%\">\n",
        "            <a href=\"https://www.sababozpolat.com\" target=\"_blank\" padding=\"0px\">\n",
        "                <img align=\"center\" src=\"https://raw.githubusercontent.com/MU-Physics-Department/logos/master/hp.png\">\n",
        "            </a>\n",
        "        </th>\n",
        "        <th style=\"padding:0px\" width=\"5%\">\n",
        "            <a href=\"mailto:saba.bozpolat@gmail.com\" target=\"_blank\">\n",
        "                <img align=\"center\" src=\"https://raw.githubusercontent.com/MU-Physics-Department/logos/master/email.png\">\n",
        "            </a>\n",
        "        </th>\n",
        "        <th style=\"padding:0px;\" width=\"5%\">\n",
        "            <a href=\"https://www.linkedin.com/in/saba-bozpolat-644856152/\" target=\"_blank\">\n",
        "                <img align=\"right\" src=\"https://raw.githubusercontent.com/MU-Physics-Department/logos/master/in.png\">\n",
        "            </a>\n",
        "        </th>\n",
        "        <th style=\"padding:0px;\" width=\"5%\">\n",
        "            <a href=\"https://scholar.google.com.tr/citations?user=nSiJoMYAAAAJ&hl=en\" target=\"_blank\">\n",
        "                <img align=\"right\" src=\"https://raw.githubusercontent.com/MU-Physics-Department/logos/master/GS.png\">\n",
        "            </a>\n",
        "        </th>\n",
        "        <th style=\"padding:0px;\" width=\"5%\">\n",
        "            <a href=\"https://www.researchgate.net/profile/Saba-Bozpolat\" target=\"_blank\">\n",
        "                <img align=\"right\" src=\"https://raw.githubusercontent.com/MU-Physics-Department/logos/master/RG.png\">\n",
        "            </a>\n",
        "        </th>\n",
        "        <th style=\"padding:0px\" width=\"5%\">\n",
        "            <a href=\"https://www.youtube.com/channel/UC8-uOZud6UL7oCOE2UUBunA\" target=\"_blank\">\n",
        "                <img align=\"right\" src=\"https://raw.githubusercontent.com/MU-Physics-Department/logos/master/YT.png\">\n",
        "            </a>\n",
        "        </th>\n",
        "        <th style=\"padding:0px;\" width=\"5%\">\n",
        "            <a href=\"https://github.com/sbbzplt\" target=\"_blank\">\n",
        "                <img align=\"right\" src=\"https://raw.githubusercontent.com/MU-Physics-Department/logos/master/GH.png\">\n",
        "            </a>\n",
        "        </th>\n",
        "        <th style=\"padding:0px;\" width=\"5%\">\n",
        "            <a href=\"https://join.slack.com/t/mu-fzk/shared_invite/zt-13jtd6dtd-g9zD5P4Zu0m5P0Gt2PNReQ\"\n",
        "               target=\"_blank\">\n",
        "                <img align=\"right\" src=\"https://raw.githubusercontent.com/MU-Physics-Department/logos/master/slack.png\">\n",
        "            </a>\n",
        "        </th>\n",
        "    </tr>\n",
        "</table>\n",
        "<table width=\"100%\">\n",
        "    <tr style=\"background-color:white;\">\n",
        "        <!-- <td style=\"text-align-left;padding:0px;\" width=\"10%\">\n",
        "            <a href=\"https://fef.marmara.edu.tr\"\n",
        "               target=\"_blank\">\n",
        "                <img align=\"right\" src=\"https://raw.githubusercontent.com/MU-Physics-Department/logos/master/fef.png\">\n",
        "            </a>\n",
        "        </td> -->\n",
        "        <td style=\"padding:0px\" width=\"25%\">\n",
        "            <a href=\"http://fzk.fef.marmara.edu.tr\"\n",
        "               target=\"_blank\">\n",
        "                <img align=\"right\" src=\"https://raw.githubusercontent.com/MU-Physics-Department/logos/master/fzk.png\">\n",
        "            </a>\n",
        "        </td>\n",
        "        <td width=\"10%\">\n",
        "            &nbsp;\n",
        "        </td>\n",
        "        <td style=\"padding:0px;\" width=\"65%\">\n",
        "            <a href=\"https://www.sababozpolat.com/lectures/spring-semester/scientific-programming\"\n",
        "               target=\"_blank\">\n",
        "                <img align=\"right\" src=\"https://raw.githubusercontent.com/MU-Physics-Department/logos/master/phys3011.png\">\n",
        "            </a>\n",
        "        </td>\n",
        "    </tr>\n",
        "</table>"
      ],
      "metadata": {
        "id": "SfXQdHd_1HlA"
      }
    },
    {
      "cell_type": "markdown",
      "source": [
        "# Inheritance "
      ],
      "metadata": {
        "id": "HWjznjCV1NIL"
      }
    },
    {
      "cell_type": "markdown",
      "source": [
        "Inheritance is one of the core concepts of object-oriented programming. It is a mechanism where you can to derive a class from another class. An inherited class inherits the features and methods of the class from which it is derived. The base class is called as \"parent\" and the inherited one is called \"child\".\n",
        "\n",
        "<br>\n",
        "<img width=\"400\" src=\"https://github.com/MU-Physics-Department/logos/blob/master/for_phys3011/inheritance.png?raw=true\">\n",
        "<br>\n",
        "\n"
      ],
      "metadata": {
        "id": "y-xAlRDn22tS"
      }
    },
    {
      "cell_type": "markdown",
      "source": [
        "# Implementation"
      ],
      "metadata": {
        "id": "TmsFuFsGCaT2"
      }
    },
    {
      "cell_type": "markdown",
      "source": [
        "In order to inherit a class from another one, you should express the name of parent in the declaration of the child. This is done by writing the name of the parent class at the first line of the child class next to the name of the child in parantheses. Here is an example for inheritance.\n",
        "\n",
        "``` python\n",
        "class Parent:\n",
        "    def __init__(self, a, b, c):\n",
        "        self.a = a\n",
        "        self.b = b\n",
        "        self.c = c\n",
        "\n",
        "    def method_of_parent(self, d, e):\n",
        "        f = d + self.a + self.b / e\n",
        "        return f\n",
        "\n",
        "\n",
        "class Child(Parent):\n",
        "    pass\n",
        "\n",
        "```\n",
        "\n",
        "In the given code above, ```Child``` class inherits the features as well as the method from ```Parent``` class. In other words, ```Child``` class has ```a, b, c``` as its features and it also can use ```method_of_parent```. A Venn schema for the features and methods of ```Parent``` and ```Child``` classes given below.\n",
        "\n",
        "<br>\n",
        "<img width=\"400\" src=\"https://github.com/MU-Physics-Department/logos/blob/master/for_phys3011/parent_child.png?raw=true\">\n",
        "<br>"
      ],
      "metadata": {
        "id": "psTyWICHCe2l"
      }
    },
    {
      "cell_type": "markdown",
      "source": [
        "<h3>Task 1</h3>\n",
        "\n",
        "Implement the code for given object-oriented design below.\n",
        " - Parent Object: Mother\n",
        "   - Features: name, age, height.\n",
        " - Child Object: Daughter (inherits from Parent)\n",
        "   - Features: no extra features.\n",
        "\n",
        "\n",
        "Create a child instance and print its name, age and height."
      ],
      "metadata": {
        "id": "1H0BDpvkCfYx"
      }
    },
    {
      "cell_type": "code",
      "source": [
        "class Mother:\n",
        "    def __init__(self, name, age, height):\n",
        "        self.name = name\n",
        "        self.age = age\n",
        "        self.height = height\n",
        "\n",
        "class Daughter(Mother):\n",
        "    pass\n",
        "\n",
        "Ece = Daughter(\"Ece\", 22, 1.68)\n",
        "print(Ece.name)\n",
        "print(Ece.age)\n",
        "print(Ece.height)\n"
      ],
      "metadata": {
        "id": "QuEvrww9HZBh"
      },
      "execution_count": null,
      "outputs": []
    },
    {
      "cell_type": "markdown",
      "source": [
        "## Adding Extra Features\n",
        "\n",
        "You may add some extra features to the child class.\n",
        "\n",
        "<br>\n",
        "<img width=\"400\" src=\"https://github.com/MU-Physics-Department/logos/blob/master/for_phys3011/parent_child_2.png?raw=true\">\n",
        "<br>\n",
        "In this case, even though parent can reach only its own features and methods, child can reach to both its own and those of its parent. During implementation, extra features is utilised by initialization method of the child. In this way, the initialization method of parent is overwritten by that of child. Therefore, you should be careful with initialization of the child and don't forget to implement the features related to the parent, as well.\n",
        "\n",
        "``` pyhton\n",
        "class Parent:\n",
        "    def __init__(self, a, b, c):\n",
        "        self.a = a\n",
        "        self.b = b\n",
        "        self.c = c\n",
        "\n",
        "    def method_of_parent(self, d, e):\n",
        "        f = d + self.a + self.b / e\n",
        "        return f\n",
        "\n",
        "\n",
        "class Child(Parent):\n",
        "    def __init__(self, a, b, c, x, y, z):\n",
        "        self.a = a\n",
        "        self.b = b\n",
        "        self.c = c\n",
        "        self.x = x\n",
        "        self.y = y\n",
        "        self.z = z\n",
        "\n",
        "```\n"
      ],
      "metadata": {
        "id": "gDYNsXcxJmvq"
      }
    },
    {
      "cell_type": "code",
      "source": [
        "class Mother:\n",
        "    def __init__(self, name, age, height):\n",
        "        self.name=name\n",
        "        self.age=age\n",
        "        self.height=height\n",
        "    \n",
        "    def drink_coffee(self):  #first method of mother\n",
        "        print(self.name + \" is drinking coffe \")\n",
        "    def gossip(self):        #second method of mother\n",
        "        print(self.name +  \" is gossiping while drinking coffee \")\n",
        "\n",
        "class Daughter(Mother):       #no extra features\n",
        "\n",
        "    def go_to_school(self):    #first method of mother\n",
        "        print(self.name + \" goes to school every morning \")\n",
        "\n",
        "ayse= Mother(\"Ayse\", 39, 1.62)\n",
        "ece= Daughter(\"Ece\", 20, 1.68)\n",
        "\n",
        "ayse.gossip()\n",
        "ece.gossip()\n",
        "ece.go_to_school()"
      ],
      "metadata": {
        "id": "xXxxQipSg5Zy"
      },
      "execution_count": null,
      "outputs": []
    },
    {
      "cell_type": "code",
      "source": [
        "class Mother:\n",
        "    def __init__(self, name, age, height):\n",
        "        self.name=name\n",
        "        self.age=age\n",
        "        self.height=height\n",
        "    \n",
        "    def drink_coffee(self):  #first method of mother\n",
        "        print(self.name + \" is drinking coffe \")\n",
        "    def gossip(self):        #second method of mother\n",
        "        print(self.name +  \" is gossiping while drinking coffee \")\n",
        "    def social_media_fb(self): #third method of mother\n",
        "        print(self.name + \" using Facebook\")\n",
        "\n",
        "class Daughter(Mother):       #no extra features\n",
        "\n",
        "    def go_to_school(self):    #first method of mother\n",
        "        print(self.name + \" goes to school every morning \")\n",
        "    def social_media_ig(self): #second method of mother\n",
        "        print(self.name + \" using Instagram\")\n",
        "\n",
        "ayse= Mother(\"Ayse\", 39, 1.62)\n",
        "ece= Daughter(\"Ece\", 20, 1.68)\n",
        "\n",
        "ayse.gossip()\n",
        "ece.gossip()\n",
        "ece.go_to_school()\n",
        "ayse.social_media_fb()\n",
        "ece.social_media_ig()"
      ],
      "metadata": {
        "id": "48URkQzcl59Y"
      },
      "execution_count": null,
      "outputs": []
    },
    {
      "cell_type": "markdown",
      "source": [
        "<h3>Task 2</h3>\n",
        "\n",
        "Implement the code for given object-oriented design below.\n",
        " - Parent Object: Mother\n",
        "   - Features: name, age, height.\n",
        " - Child Object: Daughter (inherits from Parent)\n",
        "   - Extra Features: job, wage.\n",
        "\n",
        "\n",
        "Create a child instance and print its all features."
      ],
      "metadata": {
        "id": "Y5Rdt6EdVl9D"
      }
    },
    {
      "cell_type": "code",
      "source": [
        "class Mother:\n",
        "    def __init__(self, name, age, height):\n",
        "        self.name = name\n",
        "        self.age = age\n",
        "        self.height = height\n",
        "\n",
        "class Daughter(Mother):\n",
        "    def __init__(self, name, age, height, job, wage):\n",
        "        self.name=name\n",
        "        self.age=age\n",
        "        self.height=height\n",
        "        self.job=job\n",
        "        self.wage=wage\n",
        "\n",
        "ayse=Mother(\"ayse\", 39, 1.68)\n",
        "ece=Daughter(\"ece\", 20, 1.62, \"student\", 1250)\n",
        "print(ece.wage)\n",
        "print(ayse.wage) # hata verir çünkü annenin böyle bi özelliği yok."
      ],
      "metadata": {
        "id": "Ri4wD2AaTD0e"
      },
      "execution_count": null,
      "outputs": []
    },
    {
      "cell_type": "markdown",
      "source": [
        "## ```super()``` method"
      ],
      "metadata": {
        "id": "NMdJL-zEWFAR"
      }
    },
    {
      "cell_type": "markdown",
      "source": [
        "\n",
        "Note the repetitive lines in the code. This is a filthy way of coding. We should avoid to repeat code as much as possible. However, in the process of implementing extra features we are to overwrite the initialisation of the parent and simply deleting repetative code lines is not an option. In this case, we may use another concept from object oriented programming, which is the renowed ```super()``` method, to invoke the initialization of parent. \n",
        "\n",
        "``` pyhton\n",
        "class Parent:\n",
        "    def __init__(self, a, b, c):\n",
        "        self.a = a\n",
        "        self.b = b\n",
        "        self.c = c\n",
        "\n",
        "    def method_of_parent(self, d, e):\n",
        "        f = d + self.a + self.b / e\n",
        "        return f\n",
        "\n",
        "\n",
        "class Child(Parent):\n",
        "    def __init__(self, a, b, c, x, y, z):\n",
        "        super().__init__(a, b, c)\n",
        "        self.x = x\n",
        "        self.y = y\n",
        "        self.z = z\n",
        "\n",
        "```"
      ],
      "metadata": {
        "id": "oV8C77aGVrLw"
      }
    },
    {
      "cell_type": "markdown",
      "source": [
        "<h3>Task 3</h3>\n",
        "\n",
        "Copy your code from Task 2 and fix repeated code lines using ```super()```."
      ],
      "metadata": {
        "id": "QDcDQysqWn47"
      }
    },
    {
      "cell_type": "code",
      "source": [
        "class Mother:\n",
        "    def __init__(self, name, age, height):\n",
        "        self.name = name\n",
        "        self.age = age\n",
        "        self.height = height\n",
        "\n",
        "class Daughter(Mother):\n",
        "    def __init__(self, name, age, height, job, wage):\n",
        "        super().__init__(name, age, height)\n",
        "        self.job=job\n",
        "        self.wage=wage\n",
        "\n",
        "ayse=Mother(\"ayse\", 39, 1.68)\n",
        "ece=Daughter(\"ece\", 20, 1.62, \"student\", 1250)\n",
        "print(ece.wage)\n",
        "\n",
        "#print(ayse.wage) # hata verir çünkü annenin böyle bi özelliği yok.\n"
      ],
      "metadata": {
        "id": "SVvpOdQCWn48"
      },
      "execution_count": null,
      "outputs": []
    }
  ]
}