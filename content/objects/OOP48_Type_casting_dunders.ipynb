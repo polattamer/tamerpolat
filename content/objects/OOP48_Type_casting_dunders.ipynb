{
  "nbformat": 4,
  "nbformat_minor": 0,
  "metadata": {
    "colab": {
      "private_outputs": true,
      "provenance": [],
      "toc_visible": true,
      "include_colab_link": true
    },
    "kernelspec": {
      "name": "python3",
      "display_name": "Python 3"
    },
    "language_info": {
      "name": "python"
    }
  },
  "cells": [
    {
      "cell_type": "markdown",
      "metadata": {
        "id": "view-in-github",
        "colab_type": "text"
      },
      "source": [
        "<a href=\"https://colab.research.google.com/github/polattamer/tamerpolat/blob/main/content/objects/OOP48_Type_casting_dunders.ipynb\" target=\"_parent\"><img src=\"https://colab.research.google.com/assets/colab-badge.svg\" alt=\"Open In Colab\"/></a>"
      ]
    },
    {
      "cell_type": "markdown",
      "source": [
        "<table width=\"100%\">\n",
        "    <tr style=\"\">\n",
        "        <th style=\"text-align:left; padding:0px\" width=\"5%\">\n",
        "            <a href=\"https://www.marmara.edu.tr\" target=\"_blank\">\n",
        "                <img src=\"https://raw.githubusercontent.com/MU-Physics-Department/logos/master/mu_logo.png\">\n",
        "            </a>\n",
        "        </th>\n",
        "        <th style=\"padding:0px;\" width=\"35%\">\n",
        "            <img align=\"right\" src=\"https://raw.githubusercontent.com/MU-Physics-Department/logos/master/name.png\">\n",
        "        </th>\n",
        "        <th  width=\"20%\">\n",
        "            &nbsp;\n",
        "        </th>\n",
        "        <th style=\"padding:0px\" width=\"5%\">\n",
        "            <a href=\"https://www.sababozpolat.com\" target=\"_blank\" padding=\"0px\">\n",
        "                <img align=\"center\" src=\"https://raw.githubusercontent.com/MU-Physics-Department/logos/master/hp.png\">\n",
        "            </a>\n",
        "        </th>\n",
        "        <th style=\"padding:0px\" width=\"5%\">\n",
        "            <a href=\"mailto:saba.bozpolat@gmail.com\" target=\"_blank\">\n",
        "                <img align=\"center\" src=\"https://raw.githubusercontent.com/MU-Physics-Department/logos/master/email.png\">\n",
        "            </a>\n",
        "        </th>\n",
        "        <th style=\"padding:0px;\" width=\"5%\">\n",
        "            <a href=\"https://www.linkedin.com/in/saba-bozpolat-644856152/\" target=\"_blank\">\n",
        "                <img align=\"right\" src=\"https://raw.githubusercontent.com/MU-Physics-Department/logos/master/in.png\">\n",
        "            </a>\n",
        "        </th>\n",
        "        <th style=\"padding:0px;\" width=\"5%\">\n",
        "            <a href=\"https://scholar.google.com.tr/citations?user=nSiJoMYAAAAJ&hl=en\" target=\"_blank\">\n",
        "                <img align=\"right\" src=\"https://raw.githubusercontent.com/MU-Physics-Department/logos/master/GS.png\">\n",
        "            </a>\n",
        "        </th>\n",
        "        <th style=\"padding:0px;\" width=\"5%\">\n",
        "            <a href=\"https://www.researchgate.net/profile/Saba-Bozpolat\" target=\"_blank\">\n",
        "                <img align=\"right\" src=\"https://raw.githubusercontent.com/MU-Physics-Department/logos/master/RG.png\">\n",
        "            </a>\n",
        "        </th>\n",
        "        <th style=\"padding:0px\" width=\"5%\">\n",
        "            <a href=\"https://www.youtube.com/channel/UC8-uOZud6UL7oCOE2UUBunA\" target=\"_blank\">\n",
        "                <img align=\"right\" src=\"https://raw.githubusercontent.com/MU-Physics-Department/logos/master/YT.png\">\n",
        "            </a>\n",
        "        </th>\n",
        "        <th style=\"padding:0px;\" width=\"5%\">\n",
        "            <a href=\"https://github.com/sbbzplt\" target=\"_blank\">\n",
        "                <img align=\"right\" src=\"https://raw.githubusercontent.com/MU-Physics-Department/logos/master/GH.png\">\n",
        "            </a>\n",
        "        </th>\n",
        "        <th style=\"padding:0px;\" width=\"5%\">\n",
        "            <a href=\"https://join.slack.com/t/mu-fzk/shared_invite/zt-13jtd6dtd-g9zD5P4Zu0m5P0Gt2PNReQ\"\n",
        "               target=\"_blank\">\n",
        "                <img align=\"right\" src=\"https://raw.githubusercontent.com/MU-Physics-Department/logos/master/slack.png\">\n",
        "            </a>\n",
        "        </th>\n",
        "    </tr>\n",
        "</table>\n",
        "<table width=\"100%\">\n",
        "    <tr style=\"background-color:white;\">\n",
        "        <!-- <td style=\"text-align-left;padding:0px;\" width=\"10%\">\n",
        "            <a href=\"https://fef.marmara.edu.tr\"\n",
        "               target=\"_blank\">\n",
        "                <img align=\"right\" src=\"https://raw.githubusercontent.com/MU-Physics-Department/logos/master/fef.png\">\n",
        "            </a>\n",
        "        </td> -->\n",
        "        <td style=\"padding:0px\" width=\"25%\">\n",
        "            <a href=\"http://fzk.fef.marmara.edu.tr\"\n",
        "               target=\"_blank\">\n",
        "                <img align=\"right\" src=\"https://raw.githubusercontent.com/MU-Physics-Department/logos/master/fzk.png\">\n",
        "            </a>\n",
        "        </td>\n",
        "        <td width=\"10%\">\n",
        "            &nbsp;\n",
        "        </td>\n",
        "        <td style=\"padding:0px;\" width=\"65%\">\n",
        "            <a href=\"https://www.sababozpolat.com/lectures/spring-semester/scientific-programming\"\n",
        "               target=\"_blank\">\n",
        "                <img align=\"right\" src=\"https://raw.githubusercontent.com/MU-Physics-Department/logos/master/phys3011.png\">\n",
        "            </a>\n",
        "        </td>\n",
        "    </tr>\n",
        "</table>"
      ],
      "metadata": {
        "id": "027YxODmcgli"
      }
    },
    {
      "cell_type": "markdown",
      "source": [
        "# Type Casting Dunders"
      ],
      "metadata": {
        "id": "rkCqJFCqMGxP"
      }
    },
    {
      "cell_type": "markdown",
      "source": [
        "Type casting refers to the conversion of one data type to another. Python provides several dunder methods to handle these conversion for custom data types, *i.e.* classes.\n",
        "\n",
        " - ```__str__```\n",
        " - ```__int__```\n",
        " - ```__float__```\n",
        " - ```__complex__```\n",
        " - ```__bool__```\n"
      ],
      "metadata": {
        "id": "gmM0MfSYMJ54"
      }
    },
    {
      "cell_type": "markdown",
      "source": [
        "##### &#9658; __String Dunder__"
      ],
      "metadata": {
        "id": "y5QgQyWKMts2"
      }
    },
    {
      "cell_type": "markdown",
      "source": [
        "The ```__str__``` method requires one positional argument ```self``` and it returns a string. It is invoked when an object is passed to the ```str()``` constructor and when instance of the class is passed to ```print()``` function.\n",
        "\n",
        "```python\n",
        "def __str__(self):\n",
        "    return \"string version for the class.\"\n",
        "```"
      ],
      "metadata": {
        "id": "kM7hjqLIVsU-"
      }
    },
    {
      "cell_type": "markdown",
      "source": [
        "<h3>Task 1</h3>\n",
        "\n",
        "Implement ```__str__``` method for given class below."
      ],
      "metadata": {
        "id": "Q0Ndsk_yNiIG"
      }
    },
    {
      "cell_type": "code",
      "source": [
        "class Triangle:\n",
        "    def __init__(self, a, b, c, alpha, beta, gamma):\n",
        "        self.a = a  # first side of the triangle\n",
        "        self.b = b  # second side of the triangle\n",
        "        self.c = c  # third side of the triangle\n",
        "        self.alpha = alpha  # angle seeing the first side of the triangle\n",
        "        self.beta = beta  # angle seeing the second side of the triangle\n",
        "        self.gamma = gamma  # angle seeing the third side of the triangle\n",
        "\n",
        "    def __str__(self):\n",
        "        return \"sides ({},{},{}) angles ({},{},{})\" .format(self.a, self.b, self.c, self.alpha, self.beta, self.gamma)\n",
        "        \n",
        "my_triangle = Triangle(4,3,5,60,90,30)\n",
        "print(my_triangle)\n",
        "    "
      ],
      "metadata": {
        "id": "Wb1Ijb5DNrGu"
      },
      "execution_count": null,
      "outputs": []
    },
    {
      "cell_type": "markdown",
      "source": [
        "##### &#9658; __Integer, Float and Complex Dunders__"
      ],
      "metadata": {
        "id": "fVzFg1mIPEzO"
      }
    },
    {
      "cell_type": "markdown",
      "source": [
        "The ```__int__``` method executes upon calling the ```int()``` constructor and it returns an integer.\n",
        "It converts the complex objects into primitive integer type. \n",
        "Likewise, ```__float__``` and ```_complex__``` methods execute on passing the object to ```float()``` and ```complex()``` constructors, respectively.\n",
        "\n",
        "```python\n",
        "def __int__(self):\n",
        "    int_version = # statements\n",
        "    return int_version\n",
        "\n",
        "def __float__(self):\n",
        "    float_version = # statements\n",
        "    return float_version\n",
        "\n",
        "def __complex__(self):\n",
        "    complex_version = # statements\n",
        "    return complex_version\n",
        "```"
      ],
      "metadata": {
        "id": "yEcvqUwYVoY-"
      }
    },
    {
      "cell_type": "markdown",
      "source": [
        "<h3>Task 2</h3>\n",
        "A number is said to be a magic number if the sum of digits of the number recursively equals to 1. For example,\n",
        "\n",
        " - 172 is a magic number. As the sum of digits 1+7+2 = 10 and again 1+0 = 1.\n",
        "\n",
        "Instead of adding the digits recursively to check if the number is a magic number, we can just find the remainder when number is divided by 9. If remainder is 1 then the recursive sum of digits is 1 so the number is a magic number. \n",
        "\n",
        "Given is the initialization part for Magic Number class. Implement integer, float and complex construction parts."
      ],
      "metadata": {
        "id": "G0LwFYFQRUJe"
      }
    },
    {
      "cell_type": "code",
      "source": [
        "from random import randint\n",
        "\n",
        "class MagicNumber:\n",
        "    def __init__(self, n):\n",
        "        self.n = n  # digit number of the magic number.\n",
        "\n",
        "    def __call__(self):\n",
        "        upper_limit = int(10 ** self.n - 1)\n",
        "        while True:\n",
        "            number = randint(0, upper_limit)\n",
        "            if number % 9 == 1:\n",
        "                return number\n",
        "\n",
        "    def __int__(self):\n",
        "        return self\n",
        "        # \n",
        "        # your code here.\n",
        "        \n",
        "\n",
        "    def __float__(self):\n",
        "        return float(self)\n",
        "        # \n",
        "        # your code here.\n",
        "        # \n",
        "\n",
        "    def __complex__(self):\n",
        "        return complex(self)\n",
        "        # \n",
        "        # your code here.\n",
        "        # \n",
        "\n",
        "mn = MagicNumber(3)()\n",
        "print(mn)\n",
        "print(int(mn))\n",
        "print(float(mn))\n",
        "print(complex(mn))"
      ],
      "metadata": {
        "id": "1kDAbGkIRUXW"
      },
      "execution_count": null,
      "outputs": []
    },
    {
      "cell_type": "markdown",
      "source": [
        "##### &#9658; __Bool Dunder__\n"
      ],
      "metadata": {
        "id": "uymnNVcIT5Zn"
      }
    },
    {
      "cell_type": "markdown",
      "source": [
        "\n",
        "The ```__bool__``` dunder method in Python takes one positional argument, \n",
        "```self``` and returns either true or false. \n",
        "Its purpose is either to check an object is true or false, or to explicitly convert to a Boolean.\n",
        "\n",
        "```python\n",
        "def __bool__(self):\n",
        "    bool_version = # statements\n",
        "    return bool_version\n",
        "```"
      ],
      "metadata": {
        "id": "272bNnGRVvPW"
      }
    },
    {
      "cell_type": "markdown",
      "source": [
        "<h3>Task 3</h3>"
      ],
      "metadata": {
        "id": "osA1c6V4UQ3l"
      }
    }
  ]
}