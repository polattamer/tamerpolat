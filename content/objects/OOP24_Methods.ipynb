{
  "nbformat": 4,
  "nbformat_minor": 0,
  "metadata": {
    "colab": {
      "private_outputs": true,
      "provenance": [],
      "toc_visible": true,
      "include_colab_link": true
    },
    "kernelspec": {
      "name": "python3",
      "display_name": "Python 3"
    },
    "language_info": {
      "name": "python"
    }
  },
  "cells": [
    {
      "cell_type": "markdown",
      "metadata": {
        "id": "view-in-github",
        "colab_type": "text"
      },
      "source": [
        "<a href=\"https://colab.research.google.com/github/polattamer/tamerpolat/blob/main/content/objects/OOP24_Methods.ipynb\" target=\"_parent\"><img src=\"https://colab.research.google.com/assets/colab-badge.svg\" alt=\"Open In Colab\"/></a>"
      ]
    },
    {
      "cell_type": "markdown",
      "source": [
        "<table width=\"100%\">\n",
        "    <tr style=\"\">\n",
        "        <th style=\"text-align:left; padding:0px\" width=\"5%\">\n",
        "            <a href=\"https://www.marmara.edu.tr\" target=\"_blank\">\n",
        "                <img src=\"https://raw.githubusercontent.com/MU-Physics-Department/logos/master/mu_logo.png\">\n",
        "            </a>\n",
        "        </th>\n",
        "        <th style=\"padding:0px;\" width=\"35%\">\n",
        "            <img align=\"right\" src=\"https://raw.githubusercontent.com/MU-Physics-Department/logos/master/name.png\">\n",
        "        </th>\n",
        "        <th  width=\"20%\">\n",
        "            &nbsp;\n",
        "        </th>\n",
        "        <th style=\"padding:0px\" width=\"5%\">\n",
        "            <a href=\"https://www.sababozpolat.com\" target=\"_blank\" padding=\"0px\">\n",
        "                <img align=\"center\" src=\"https://raw.githubusercontent.com/MU-Physics-Department/logos/master/hp.png\">\n",
        "            </a>\n",
        "        </th>\n",
        "        <th style=\"padding:0px\" width=\"5%\">\n",
        "            <a href=\"mailto:saba.bozpolat@gmail.com\" target=\"_blank\">\n",
        "                <img align=\"center\" src=\"https://raw.githubusercontent.com/MU-Physics-Department/logos/master/email.png\">\n",
        "            </a>\n",
        "        </th>\n",
        "        <th style=\"padding:0px;\" width=\"5%\">\n",
        "            <a href=\"https://www.linkedin.com/in/saba-bozpolat-644856152/\" target=\"_blank\">\n",
        "                <img align=\"right\" src=\"https://raw.githubusercontent.com/MU-Physics-Department/logos/master/in.png\">\n",
        "            </a>\n",
        "        </th>\n",
        "        <th style=\"padding:0px;\" width=\"5%\">\n",
        "            <a href=\"https://scholar.google.com.tr/citations?user=nSiJoMYAAAAJ&hl=en\" target=\"_blank\">\n",
        "                <img align=\"right\" src=\"https://raw.githubusercontent.com/MU-Physics-Department/logos/master/GS.png\">\n",
        "            </a>\n",
        "        </th>\n",
        "        <th style=\"padding:0px;\" width=\"5%\">\n",
        "            <a href=\"https://www.researchgate.net/profile/Saba-Bozpolat\" target=\"_blank\">\n",
        "                <img align=\"right\" src=\"https://raw.githubusercontent.com/MU-Physics-Department/logos/master/RG.png\">\n",
        "            </a>\n",
        "        </th>\n",
        "        <th style=\"padding:0px\" width=\"5%\">\n",
        "            <a href=\"https://www.youtube.com/channel/UC8-uOZud6UL7oCOE2UUBunA\" target=\"_blank\">\n",
        "                <img align=\"right\" src=\"https://raw.githubusercontent.com/MU-Physics-Department/logos/master/YT.png\">\n",
        "            </a>\n",
        "        </th>\n",
        "        <th style=\"padding:0px;\" width=\"5%\">\n",
        "            <a href=\"https://github.com/sbbzplt\" target=\"_blank\">\n",
        "                <img align=\"right\" src=\"https://raw.githubusercontent.com/MU-Physics-Department/logos/master/GH.png\">\n",
        "            </a>\n",
        "        </th>\n",
        "        <th style=\"padding:0px;\" width=\"5%\">\n",
        "            <a href=\"https://join.slack.com/t/mu-fzk/shared_invite/zt-13jtd6dtd-g9zD5P4Zu0m5P0Gt2PNReQ\"\n",
        "               target=\"_blank\">\n",
        "                <img align=\"right\" src=\"https://raw.githubusercontent.com/MU-Physics-Department/logos/master/slack.png\">\n",
        "            </a>\n",
        "        </th>\n",
        "    </tr>\n",
        "</table>\n",
        "<table width=\"100%\">\n",
        "    <tr style=\"background-color:white;\">\n",
        "        <!-- <td style=\"text-align-left;padding:0px;\" width=\"10%\">\n",
        "            <a href=\"https://fef.marmara.edu.tr\"\n",
        "               target=\"_blank\">\n",
        "                <img align=\"right\" src=\"https://raw.githubusercontent.com/MU-Physics-Department/logos/master/fef.png\">\n",
        "            </a>\n",
        "        </td> -->\n",
        "        <td style=\"padding:0px\" width=\"25%\">\n",
        "            <a href=\"http://fzk.fef.marmara.edu.tr\"\n",
        "               target=\"_blank\">\n",
        "                <img align=\"right\" src=\"https://raw.githubusercontent.com/MU-Physics-Department/logos/master/fzk.png\">\n",
        "            </a>\n",
        "        </td>\n",
        "        <td width=\"10%\">\n",
        "            &nbsp;\n",
        "        </td>\n",
        "        <td style=\"padding:0px;\" width=\"65%\">\n",
        "            <a href=\"https://www.sababozpolat.com/lectures/spring-semester/scientific-programming\"\n",
        "               target=\"_blank\">\n",
        "                <img align=\"right\" src=\"https://raw.githubusercontent.com/MU-Physics-Department/logos/master/phys3011.png\">\n",
        "            </a>\n",
        "        </td>\n",
        "    </tr>\n",
        "</table>"
      ],
      "metadata": {
        "id": "LYDbVPHCwcOR"
      }
    },
    {
      "cell_type": "markdown",
      "source": [
        "# Method\n",
        "\n",
        "A method is a procedure associated with the object which can perform some operation on the instances of that object. View following figures and determine the operations which is being performed on the vase object in the figure.\n",
        "\n",
        "- Painting:\n",
        "\n",
        "<img width=\"400\" src=\"https://github.com/MU-Physics-Department/logos/blob/master/for_phys3011/vase_painting.png?raw=true\">\n",
        "\n",
        "\n",
        "- Putting:\n",
        "\n",
        "<img width=\"220\" src=\"https://github.com/MU-Physics-Department/logos/blob/master/for_phys3011/vase_filling.png?raw=true\">\n",
        "\n",
        "Infact, a method is nothing but a function of an object. In other words, we name a function as a method if that function is attached to an object.\n",
        "\n",
        "On the other hand, object-oriented design process includes the methods, as well.\n",
        "You should consider the actions related to the object ahead of time.\n",
        "We haven't include the methods part into the object-orşented design process, so far for educational purposses.\n",
        "But, from now on, you should think about the methods during designing an object.\n"
      ],
      "metadata": {
        "id": "nE6rhkyBrtqC"
      }
    },
    {
      "cell_type": "markdown",
      "source": [
        "<h3> Task 1 (on paper)</h3> \n",
        "\n",
        "Revise the vase object from previous lectures.\n",
        "\n",
        "List a couple of methods which can be attached to the vase object.\n",
        "\n",
        "<img width=\"400\" src=\"https://github.com/MU-Physics-Department/logos/blob/master/for_phys3011/vases.png?raw=1\">\n"
      ],
      "metadata": {
        "id": "j4CsKzSFj5Ra"
      }
    },
    {
      "cell_type": "markdown",
      "source": [
        "Answer:\n",
        " - Painting\n",
        " - Craft\n",
        " - Filling\n"
      ],
      "metadata": {
        "id": "J816Q7SmlF8q"
      }
    },
    {
      "cell_type": "markdown",
      "source": [
        "<h3> Task 2 (on paper)</h3> \n",
        "\n",
        "Revise the triangle object from previous lectures.\n",
        "\n",
        "List a couple of methods which can be attached to this object.\n",
        "\n",
        "<img width=\"200\" src=\"https://github.com/MU-Physics-Department/logos/blob/master/for_phys3011/tringles.png?raw=1\">\n"
      ],
      "metadata": {
        "id": "-Kve7uspk1fb"
      }
    },
    {
      "cell_type": "markdown",
      "source": [
        "Answer:\n",
        " - Find angular each triangles\n",
        " - Measure side lenghts\n",
        " - Calculate area "
      ],
      "metadata": {
        "id": "XOZHc3-tlMJy"
      }
    },
    {
      "cell_type": "markdown",
      "source": [
        "<h3> Task 3 (on paper)</h3> \n",
        "\n",
        "Revise the resistor object from previous lectures.\n",
        "\n",
        "List a couple of methods which can be attached to this object.\n",
        "\n",
        "<img width=\"300\" src=\"https://github.com/MU-Physics-Department/logos/blob/master/for_phys3011/resistors.png?raw=true\">"
      ],
      "metadata": {
        "id": "ptFLM-6ak8Y7"
      }
    },
    {
      "cell_type": "markdown",
      "source": [
        "Answer:\n",
        " - Measure resistance using colors\n",
        " - Find tolerance\n"
      ],
      "metadata": {
        "id": "TiVVG87FlNgC"
      }
    },
    {
      "cell_type": "markdown",
      "source": [
        "# Implementing a Method"
      ],
      "metadata": {
        "id": "ryxsNJ_5lVwq"
      }
    },
    {
      "cell_type": "markdown",
      "source": [
        "As for the features of an object, the methods are implemented in the body of the class. In order to reach the features of the object and the object itself, you should indicate ```self``` as the first variable of the method. After this obligatory variable, you may list other variables you'll need to use in the method. These extra variables are not the features of the object, therefore you should list only the stand-alone variables. If a variable you think you need is a feature, then you should use it through ```self``` variable.\n",
        "\n",
        "``` python\n",
        "class MyClass():\n",
        "    def __init__(self, x, y,z):\n",
        "        self.x = x\n",
        "        self.y = y\n",
        "        self.z = z\n",
        "    \n",
        "    # This is a method of MyClass.\n",
        "    # This doesn't contain any stand-alone variables.\n",
        "    def my_method_1(self):\n",
        "        w = self.x + self.y\n",
        "        return w\n",
        "\n",
        "    # This is another method of MyClass.\n",
        "    # This contains some stand-alone variables which you should provide from outside of the class.\n",
        "    def my_method_2(self, a, b=0.1):\n",
        "        c = (a + self.z) / b\n",
        "        return c\n",
        "```"
      ],
      "metadata": {
        "id": "nxEDBvqrlYZa"
      }
    },
    {
      "cell_type": "markdown",
      "source": [
        "<h3> Task 4</h3> \n",
        "\n",
        "Implement the methods you have designed for the vase object in Task 1."
      ],
      "metadata": {
        "id": "1WlQOj6fh3lO"
      }
    },
    {
      "cell_type": "code",
      "source": [
        "class Vase():\n",
        "    def __init__(self, Lenght, Color, Type):\n",
        "        self.Lenght = Lenght\n",
        "        self.Color = Color    \n",
        "        self.Type = Type\n",
        "\n",
        "    def Paint(self, color):\n",
        "        self.color = color\n",
        "\n",
        "    def Break(self):\n",
        "        del self\n",
        "\n"
      ],
      "metadata": {
        "id": "A-XxfMdwiBj4"
      },
      "execution_count": null,
      "outputs": []
    },
    {
      "cell_type": "markdown",
      "source": [
        "<h3> Task 5</h3> \n",
        "\n",
        "Implement the methods you have designed for the triangle object in Task 2."
      ],
      "metadata": {
        "id": "zNaUwzc3iCcs"
      }
    },
    {
      "cell_type": "code",
      "source": [
        "class Triangle():\n",
        "    def __init__(self, Height, Angular): #benım yaptıgım\n",
        "        self.Height = Height\n",
        "        self.Angular = Angular    \n",
        "\n",
        "    def Interior_Angular(self, Angular):\n",
        "        self.Angular = Angular\n",
        "\n",
        "\n",
        "    def __init__(self, a,b,c, alpha, beta, gamma, h_a, h_b, h_c):\n",
        "        self.a=a\n",
        "        self.b=b\n",
        "        self.c=c\n",
        "        self.alpha=alpha               #Hocanın yaptığı\n",
        "        self.beta=beta\n",
        "        self.gamma=gamma\n",
        "        self.h_a=h_a\n",
        "        self.h_b=h_b\n",
        "        self.h_c=h_c\n",
        "\n",
        "    def calculate_perimeter(self):\n",
        "        self.p = self.a+self.b+self.c\n",
        "        return self.p\n",
        "\n",
        "    def calculate_area(self):\n",
        "        area = 0.5 * self.a * self.h_a\n",
        "        return area"
      ],
      "metadata": {
        "id": "_9NsO0T0iCcs"
      },
      "execution_count": null,
      "outputs": []
    },
    {
      "cell_type": "markdown",
      "source": [
        "<h3> Task 6</h3> \n",
        "\n",
        "Implement the methods you have designed for the resistor object in Task 3."
      ],
      "metadata": {
        "id": "MOBxWC8GiCls"
      }
    },
    {
      "cell_type": "code",
      "source": [
        "class Resistor():\n",
        "    def __init__(self, color, band_numbers):  #color code bulmak için  diğer renkleride koy. (3tane) ve direnci hesaplamak için gerekli formülü yaz\n",
        "        self.color=color\n",
        "        self.band_numbers=band_numbers\n",
        "\n",
        "    def calculate_colorcode(self):\n",
        "        colorcode = self.band_numbers\n",
        "        return colorcode\n"
      ],
      "metadata": {
        "id": "UzR_AB3fiClt"
      },
      "execution_count": null,
      "outputs": []
    }
  ]
}