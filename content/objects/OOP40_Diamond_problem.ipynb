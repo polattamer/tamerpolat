{
  "nbformat": 4,
  "nbformat_minor": 0,
  "metadata": {
    "colab": {
      "private_outputs": true,
      "provenance": [],
      "include_colab_link": true
    },
    "kernelspec": {
      "name": "python3",
      "display_name": "Python 3"
    },
    "language_info": {
      "name": "python"
    }
  },
  "cells": [
    {
      "cell_type": "markdown",
      "metadata": {
        "id": "view-in-github",
        "colab_type": "text"
      },
      "source": [
        "<a href=\"https://colab.research.google.com/github/polattamer/tamerpolat/blob/main/content/objects/OOP40_Diamond_problem.ipynb\" target=\"_parent\"><img src=\"https://colab.research.google.com/assets/colab-badge.svg\" alt=\"Open In Colab\"/></a>"
      ]
    },
    {
      "cell_type": "markdown",
      "source": [
        "<table width=\"100%\">\n",
        "    <tr style=\"\">\n",
        "        <th style=\"text-align:left; padding:0px\" width=\"5%\">\n",
        "            <a href=\"https://www.marmara.edu.tr\" target=\"_blank\">\n",
        "                <img src=\"https://raw.githubusercontent.com/MU-Physics-Department/logos/master/mu_logo.png\">\n",
        "            </a>\n",
        "        </th>\n",
        "        <th style=\"padding:0px;\" width=\"35%\">\n",
        "            <img align=\"right\" src=\"https://raw.githubusercontent.com/MU-Physics-Department/logos/master/name.png\">\n",
        "        </th>\n",
        "        <th  width=\"20%\">\n",
        "            &nbsp;\n",
        "        </th>\n",
        "        <th style=\"padding:0px\" width=\"5%\">\n",
        "            <a href=\"https://www.sababozpolat.com\" target=\"_blank\" padding=\"0px\">\n",
        "                <img align=\"center\" src=\"https://raw.githubusercontent.com/MU-Physics-Department/logos/master/hp.png\">\n",
        "            </a>\n",
        "        </th>\n",
        "        <th style=\"padding:0px\" width=\"5%\">\n",
        "            <a href=\"mailto:saba.bozpolat@gmail.com\" target=\"_blank\">\n",
        "                <img align=\"center\" src=\"https://raw.githubusercontent.com/MU-Physics-Department/logos/master/email.png\">\n",
        "            </a>\n",
        "        </th>\n",
        "        <th style=\"padding:0px;\" width=\"5%\">\n",
        "            <a href=\"https://www.linkedin.com/in/saba-bozpolat-644856152/\" target=\"_blank\">\n",
        "                <img align=\"right\" src=\"https://raw.githubusercontent.com/MU-Physics-Department/logos/master/in.png\">\n",
        "            </a>\n",
        "        </th>\n",
        "        <th style=\"padding:0px;\" width=\"5%\">\n",
        "            <a href=\"https://scholar.google.com.tr/citations?user=nSiJoMYAAAAJ&hl=en\" target=\"_blank\">\n",
        "                <img align=\"right\" src=\"https://raw.githubusercontent.com/MU-Physics-Department/logos/master/GS.png\">\n",
        "            </a>\n",
        "        </th>\n",
        "        <th style=\"padding:0px;\" width=\"5%\">\n",
        "            <a href=\"https://www.researchgate.net/profile/Saba-Bozpolat\" target=\"_blank\">\n",
        "                <img align=\"right\" src=\"https://raw.githubusercontent.com/MU-Physics-Department/logos/master/RG.png\">\n",
        "            </a>\n",
        "        </th>\n",
        "        <th style=\"padding:0px\" width=\"5%\">\n",
        "            <a href=\"https://www.youtube.com/channel/UC8-uOZud6UL7oCOE2UUBunA\" target=\"_blank\">\n",
        "                <img align=\"right\" src=\"https://raw.githubusercontent.com/MU-Physics-Department/logos/master/YT.png\">\n",
        "            </a>\n",
        "        </th>\n",
        "        <th style=\"padding:0px;\" width=\"5%\">\n",
        "            <a href=\"https://github.com/sbbzplt\" target=\"_blank\">\n",
        "                <img align=\"right\" src=\"https://raw.githubusercontent.com/MU-Physics-Department/logos/master/GH.png\">\n",
        "            </a>\n",
        "        </th>\n",
        "        <th style=\"padding:0px;\" width=\"5%\">\n",
        "            <a href=\"https://join.slack.com/t/mu-fzk/shared_invite/zt-13jtd6dtd-g9zD5P4Zu0m5P0Gt2PNReQ\"\n",
        "               target=\"_blank\">\n",
        "                <img align=\"right\" src=\"https://raw.githubusercontent.com/MU-Physics-Department/logos/master/slack.png\">\n",
        "            </a>\n",
        "        </th>\n",
        "    </tr>\n",
        "</table>\n",
        "<table width=\"100%\">\n",
        "    <tr style=\"background-color:white;\">\n",
        "        <!-- <td style=\"text-align-left;padding:0px;\" width=\"10%\">\n",
        "            <a href=\"https://fef.marmara.edu.tr\"\n",
        "               target=\"_blank\">\n",
        "                <img align=\"right\" src=\"https://raw.githubusercontent.com/MU-Physics-Department/logos/master/fef.png\">\n",
        "            </a>\n",
        "        </td> -->\n",
        "        <td style=\"padding:0px\" width=\"25%\">\n",
        "            <a href=\"http://fzk.fef.marmara.edu.tr\"\n",
        "               target=\"_blank\">\n",
        "                <img align=\"right\" src=\"https://raw.githubusercontent.com/MU-Physics-Department/logos/master/fzk.png\">\n",
        "            </a>\n",
        "        </td>\n",
        "        <td width=\"10%\">\n",
        "            &nbsp;\n",
        "        </td>\n",
        "        <td style=\"padding:0px;\" width=\"65%\">\n",
        "            <a href=\"https://www.sababozpolat.com/lectures/spring-semester/scientific-programming\"\n",
        "               target=\"_blank\">\n",
        "                <img align=\"right\" src=\"https://raw.githubusercontent.com/MU-Physics-Department/logos/master/phys3011.png\">\n",
        "            </a>\n",
        "        </td>\n",
        "    </tr>\n",
        "</table>"
      ],
      "metadata": {
        "id": "rtOK5sPH5iF6"
      }
    },
    {
      "cell_type": "markdown",
      "source": [
        "# Diamond Problem"
      ],
      "metadata": {
        "id": "uv3ACuvE5uPo"
      }
    },
    {
      "cell_type": "markdown",
      "source": [
        "The \"diamond problem\" (sometimes referred to as the \"Deadly Diamond of Death\") is an ambiguity that arises when two classes B and C inherit from A, and class D inherits from both B and C. If there is a method in A that B and C have overridden, and D does not override it, then which version of the method does D inherit: that of B, or that of C?\n",
        "\n",
        "<img width=\"25%\" src=\"https://github.com/MU-Physics-Department/logos/blob/master/for_phys3011/diamond_problem.png?raw=true\">\n",
        "\n",
        "Before moving along to the first task of this notebook, run the following cell as so you'll use these classes in every task."
      ],
      "metadata": {
        "id": "B5X7Idme5wZ3"
      }
    },
    {
      "cell_type": "code",
      "source": [
        "class Fruit:\n",
        "    def __init__(self, mass):\n",
        "        self.mass = mass\n",
        "\n",
        "    def pick(self):\n",
        "        print(\"Pick a fruit.\")\n",
        "\n",
        "\n",
        "class Apple(Fruit):\n",
        "    def __init__(self, mass, color):\n",
        "        super().__init__(mass)\n",
        "        self.color = color\n",
        "\n",
        "    def pick(self):\n",
        "        print(\"Pick an apple.\")\n",
        "\n",
        "\n",
        "class Orange(Fruit):\n",
        "    def __init__(self, mass, taste):\n",
        "        super().__init__(mass)\n",
        "        self.taste = taste\n",
        "\n",
        "    def pick(self):\n",
        "        print(\"Pick an orange.\")\n"
      ],
      "metadata": {
        "id": "bvPjyBMCK2z2"
      },
      "execution_count": null,
      "outputs": []
    },
    {
      "cell_type": "markdown",
      "source": [
        "<h3>Task 1</h3>\n",
        "\n",
        "Examine the figure below and perform following instructions.\n",
        "\n",
        "1. Create an Apple instance and use its pick method.\n",
        "2. Create an Orange instance and use its pick method.\n",
        "3. Create a Farm instance and use its pick method.\n",
        "\n",
        "What is your intuition? Which sentences do you think will be printed in each case?\n",
        "\n",
        "<img width=\"75%\" src=\"https://github.com/MU-Physics-Department/logos/blob/master/for_phys3011/diamond_problem_example.png?raw=true\">"
      ],
      "metadata": {
        "id": "oqC6DAC3KDv_"
      }
    },
    {
      "cell_type": "code",
      "source": [
        "class Farm1(Apple, Orange):\n",
        "    def __init__(self, mass, color, taste):\n",
        "        pass\n",
        "        \n",
        "\n",
        "apple = Apple(50, \"sour\")\n",
        "apple.pick()\n",
        "\n",
        "orange = Orange(75, \"mellow\")\n",
        "orange.pick()\n",
        "\n",
        "farm = Farm1(25, \"yellow\", \"sour\")\n",
        "farm.pick()\n"
      ],
      "metadata": {
        "id": "RRgq7X26MZlm"
      },
      "execution_count": null,
      "outputs": []
    },
    {
      "cell_type": "markdown",
      "source": [
        "<h3>Task 2</h3>\n",
        "\n",
        "Another implementation for Farm class is provided below. Redo Task 1 and observe the difference in printed lines. Which alteration in the code for Farm class causes this difference?"
      ],
      "metadata": {
        "id": "bz4Gu274MHSF"
      }
    },
    {
      "cell_type": "code",
      "source": [
        "class Farm2(Orange, Apple):\n",
        "    def __init__(self, mass, color, taste):\n",
        "        pass\n",
        "        \n",
        "\n",
        "# \n",
        "# your code here.\n",
        "# \n",
        "apple = Apple(50, \"sour\")\n",
        "apple.pick()\n",
        "\n",
        "orange = Orange(75, \"mellow\")\n",
        "orange.pick()\n",
        "\n",
        "farm = Farm2(25, \"yellow\", \"sour\")\n",
        "farm.pick()"
      ],
      "metadata": {
        "id": "vDQiR0yYMbbH"
      },
      "execution_count": null,
      "outputs": []
    },
    {
      "cell_type": "markdown",
      "source": [
        "As you've observed above, if diamond problem occurs in the object-oriented design, the order of inheritance gains importance. Even though this order significance might be benefical in some rare object-oriented designs, general approach to this order is to get rid of it. The ways of erasing this inheritance ordering are highly dependent on specific need of the project and its object-oriented design and this is beyond of the scope of this lecture."
      ],
      "metadata": {
        "id": "yJUKqP9UNRqm"
      }
    }
  ]
}