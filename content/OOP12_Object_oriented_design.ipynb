{
  "nbformat": 4,
  "nbformat_minor": 0,
  "metadata": {
    "colab": {
      "private_outputs": true,
      "provenance": [],
      "toc_visible": true,
      "include_colab_link": true
    },
    "kernelspec": {
      "name": "python3",
      "display_name": "Python 3"
    },
    "language_info": {
      "name": "python"
    }
  },
  "cells": [
    {
      "cell_type": "markdown",
      "metadata": {
        "id": "view-in-github",
        "colab_type": "text"
      },
      "source": [
        "<a href=\"https://colab.research.google.com/github/polattamer/tamerpolat/blob/main/content/OOP12_Object_oriented_design.ipynb\" target=\"_parent\"><img src=\"https://colab.research.google.com/assets/colab-badge.svg\" alt=\"Open In Colab\"/></a>"
      ]
    },
    {
      "cell_type": "markdown",
      "source": [
        "<table width=\"100%\">\n",
        "    <tr style=\"\">\n",
        "        <th style=\"text-align:left; padding:0px\" width=\"5%\">\n",
        "            <a href=\"https://www.marmara.edu.tr\" target=\"_blank\">\n",
        "                <img src=\"https://raw.githubusercontent.com/MU-Physics-Department/logos/master/mu_logo.png\">\n",
        "            </a>\n",
        "        </th>\n",
        "        <th style=\"padding:0px;\" width=\"35%\">\n",
        "            <img align=\"right\" src=\"https://raw.githubusercontent.com/MU-Physics-Department/logos/master/name.png\">\n",
        "        </th>\n",
        "        <th  width=\"20%\">\n",
        "            &nbsp;\n",
        "        </th>\n",
        "        <th style=\"padding:0px\" width=\"5%\">\n",
        "            <a href=\"https://www.sababozpolat.com\" target=\"_blank\" padding=\"0px\">\n",
        "                <img align=\"center\" src=\"https://raw.githubusercontent.com/MU-Physics-Department/logos/master/hp.png\">\n",
        "            </a>\n",
        "        </th>\n",
        "        <th style=\"padding:0px\" width=\"5%\">\n",
        "            <a href=\"mailto:saba.bozpolat@gmail.com\" target=\"_blank\">\n",
        "                <img align=\"center\" src=\"https://raw.githubusercontent.com/MU-Physics-Department/logos/master/email.png\">\n",
        "            </a>\n",
        "        </th>\n",
        "        <th style=\"padding:0px;\" width=\"5%\">\n",
        "            <a href=\"https://www.linkedin.com/in/saba-bozpolat-644856152/\" target=\"_blank\">\n",
        "                <img align=\"right\" src=\"https://raw.githubusercontent.com/MU-Physics-Department/logos/master/in.png\">\n",
        "            </a>\n",
        "        </th>\n",
        "        <th style=\"padding:0px;\" width=\"5%\">\n",
        "            <a href=\"https://scholar.google.com.tr/citations?user=nSiJoMYAAAAJ&hl=en\" target=\"_blank\">\n",
        "                <img align=\"right\" src=\"https://raw.githubusercontent.com/MU-Physics-Department/logos/master/GS.png\">\n",
        "            </a>\n",
        "        </th>\n",
        "        <th style=\"padding:0px;\" width=\"5%\">\n",
        "            <a href=\"https://www.researchgate.net/profile/Saba-Bozpolat\" target=\"_blank\">\n",
        "                <img align=\"right\" src=\"https://raw.githubusercontent.com/MU-Physics-Department/logos/master/RG.png\">\n",
        "            </a>\n",
        "        </th>\n",
        "        <th style=\"padding:0px\" width=\"5%\">\n",
        "            <a href=\"https://www.youtube.com/channel/UC8-uOZud6UL7oCOE2UUBunA\" target=\"_blank\">\n",
        "                <img align=\"right\" src=\"https://raw.githubusercontent.com/MU-Physics-Department/logos/master/YT.png\">\n",
        "            </a>\n",
        "        </th>\n",
        "        <th style=\"padding:0px;\" width=\"5%\">\n",
        "            <a href=\"https://github.com/sbbzplt\" target=\"_blank\">\n",
        "                <img align=\"right\" src=\"https://raw.githubusercontent.com/MU-Physics-Department/logos/master/GH.png\">\n",
        "            </a>\n",
        "        </th>\n",
        "        <th style=\"padding:0px;\" width=\"5%\">\n",
        "            <a href=\"https://join.slack.com/t/mu-fzk/shared_invite/zt-13jtd6dtd-g9zD5P4Zu0m5P0Gt2PNReQ\"\n",
        "               target=\"_blank\">\n",
        "                <img align=\"right\" src=\"https://raw.githubusercontent.com/MU-Physics-Department/logos/master/slack.png\">\n",
        "            </a>\n",
        "        </th>\n",
        "    </tr>\n",
        "</table>\n",
        "<table width=\"100%\">\n",
        "    <tr style=\"background-color:white;\">\n",
        "        <!-- <td style=\"text-align-left;padding:0px;\" width=\"10%\">\n",
        "            <a href=\"https://fef.marmara.edu.tr\"\n",
        "               target=\"_blank\">\n",
        "                <img align=\"right\" src=\"https://raw.githubusercontent.com/MU-Physics-Department/logos/master/fef.png\">\n",
        "            </a>\n",
        "        </td> -->\n",
        "        <td style=\"padding:0px\" width=\"25%\">\n",
        "            <a href=\"http://fzk.fef.marmara.edu.tr\"\n",
        "               target=\"_blank\">\n",
        "                <img align=\"right\" src=\"https://raw.githubusercontent.com/MU-Physics-Department/logos/master/fzk.png\">\n",
        "            </a>\n",
        "        </td>\n",
        "        <td width=\"10%\">\n",
        "            &nbsp;\n",
        "        </td>\n",
        "        <td style=\"padding:0px;\" width=\"65%\">\n",
        "            <a href=\"https://www.sababozpolat.com/lectures/spring-semester/scientific-programming\"\n",
        "               target=\"_blank\">\n",
        "                <img align=\"right\" src=\"https://raw.githubusercontent.com/MU-Physics-Department/logos/master/phys3011.png\">\n",
        "            </a>\n",
        "        </td>\n",
        "    </tr>\n",
        "</table>"
      ],
      "metadata": {
        "id": "LYDbVPHCwcOR"
      }
    },
    {
      "cell_type": "markdown",
      "source": [
        "# Object-oriented design\t\n",
        "Object-oriented design (OOD) is the process of planning a system of objects which will be interacting with each other. To design a program object-orientedly, the programmer needs a pen and some paper and tinker some different possible object scenarios and how they would interact with each other.\n"
      ],
      "metadata": {
        "id": "qJkmkbZERJgI"
      }
    },
    {
      "cell_type": "markdown",
      "source": [
        "<h3> Task 1 (on paper)</h3> \n",
        "\n",
        "See following figure and answer these questions.\n",
        " - How many different types of office supplies in this figure? Name them.\n",
        " - Find the features for these different supplies.\n",
        "\n",
        "<img width=\"400\" src=\"https://github.com/MU-Physics-Department/logos/blob/master/for_phys3011/office_supplies.jpg?raw=true\">\n",
        "\n",
        "- CD\n",
        "  - Capacity\n",
        "  - Brand\n",
        "  - Model\n",
        "- Scissor\n",
        "  - Lenght\n",
        "  - Sharpness\n",
        "- Pen\n",
        "  - Type\n",
        "  - Color\n",
        "  - Tip\n",
        "  - Text Style"
      ],
      "metadata": {
        "id": "rwEntNTWS3_W"
      }
    },
    {
      "cell_type": "markdown",
      "source": [
        "<h3> Task 2 (on paper)</h3> \n",
        "\n",
        "See following figure and answer these questions.\n",
        " - How many different types of geometric shapes in this figure? Name them.\n",
        " - Find the features for these different geometric object.\n",
        "\n",
        "<img width=\"500\" src=\"https://github.com/MU-Physics-Department/logos/blob/master/for_phys3011/shapes.jpg?raw=true\">\n",
        "\n",
        "- Circle\n",
        "  - No angles\n",
        "  - Symmetrical\n",
        "- Square\n",
        "  - 4 same angles\n",
        "  - Symmetrical\n",
        "  - Same side lenghts\n",
        "- Triangles\n",
        "  - 3 angles\n",
        "  - if side lenghts are equal to each other it's symmetrical.\n",
        "- Rectangle\n",
        "  - 4 angles\n",
        "  - 2 different side lenghts \n",
        "\n"
      ],
      "metadata": {
        "id": "PdCbB2l4oyPO"
      }
    },
    {
      "cell_type": "markdown",
      "source": [
        "<h3> Task 3 (on paper)</h3> \n",
        "\n",
        "See following figure and answer these questions.\n",
        " - How many different types of galactic objects in this figure? Name them.\n",
        " - Find the features for these different galactic objects.\n",
        "\n",
        "<img width=\"500\" src=\"https://github.com/MU-Physics-Department/logos/blob/master/for_phys3011/gokcisimleri.png?raw=true\">\n",
        "\n",
        "\n",
        "- Stars, planet, types in this figure.\n",
        "- These stars and planets have different diameter and mass. Some of them have secondary planet. \n",
        "- Satellite \n",
        " - Order of orbit\n",
        " - Mass\n",
        " - Radius\n",
        "- Planet\n",
        " - Mass\n",
        " - Radius\n",
        " - Water Status\n",
        " - Order of orbit\n",
        "- Ordinary Star\n",
        " - Mass\n",
        " - Radius\n",
        " - Lifetime\n",
        " - Temprature\n",
        " - Hellium\n",
        " - Lithium\n",
        "- Neutron Star\n",
        " - Mass\n",
        " - Types\n",
        " - Temprature\n",
        "- Blackhole\n",
        " - Mass\n",
        " - Radius\n",
        " - Charge\n",
        " - Angular momentum\n",
        " - Gravitational force"
      ],
      "metadata": {
        "id": "iNBjE00eoyVN"
      }
    }
  ]
}