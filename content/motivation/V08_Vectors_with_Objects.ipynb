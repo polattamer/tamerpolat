{
  "nbformat": 4,
  "nbformat_minor": 0,
  "metadata": {
    "colab": {
      "private_outputs": true,
      "provenance": [],
      "include_colab_link": true
    },
    "kernelspec": {
      "name": "python3",
      "display_name": "Python 3"
    },
    "language_info": {
      "name": "python"
    }
  },
  "cells": [
    {
      "cell_type": "markdown",
      "metadata": {
        "id": "view-in-github",
        "colab_type": "text"
      },
      "source": [
        "<a href=\"https://colab.research.google.com/github/polattamer/tamerpolat/blob/main/content/motivation/V08_Vectors_with_Objects.ipynb\" target=\"_parent\"><img src=\"https://colab.research.google.com/assets/colab-badge.svg\" alt=\"Open In Colab\"/></a>"
      ]
    },
    {
      "cell_type": "markdown",
      "source": [
        "<table width=\"100%\">\n",
        "    <tr style=\"\">\n",
        "        <th style=\"text-align:left; padding:0px\" width=\"5%\">\n",
        "            <a href=\"https://www.marmara.edu.tr\" target=\"_blank\">\n",
        "                <img src=\"https://raw.githubusercontent.com/MU-Physics-Department/logos/master/mu_logo.png\">\n",
        "            </a>\n",
        "        </th>\n",
        "        <th style=\"padding:0px;\" width=\"35%\">\n",
        "            <img align=\"right\" src=\"https://raw.githubusercontent.com/MU-Physics-Department/logos/master/name.png\">\n",
        "        </th>\n",
        "        <th  width=\"20%\">\n",
        "            &nbsp;\n",
        "        </th>\n",
        "        <th style=\"padding:0px\" width=\"5%\">\n",
        "            <a href=\"https://www.sababozpolat.com\" target=\"_blank\" padding=\"0px\">\n",
        "                <img align=\"center\" src=\"https://raw.githubusercontent.com/MU-Physics-Department/logos/master/hp.png\">\n",
        "            </a>\n",
        "        </th>\n",
        "        <th style=\"padding:0px\" width=\"5%\">\n",
        "            <a href=\"mailto:saba.bozpolat@gmail.com\" target=\"_blank\">\n",
        "                <img align=\"center\" src=\"https://raw.githubusercontent.com/MU-Physics-Department/logos/master/email.png\">\n",
        "            </a>\n",
        "        </th>\n",
        "        <th style=\"padding:0px;\" width=\"5%\">\n",
        "            <a href=\"https://www.linkedin.com/in/saba-bozpolat-644856152/\" target=\"_blank\">\n",
        "                <img align=\"right\" src=\"https://raw.githubusercontent.com/MU-Physics-Department/logos/master/in.png\">\n",
        "            </a>\n",
        "        </th>\n",
        "        <th style=\"padding:0px;\" width=\"5%\">\n",
        "            <a href=\"https://scholar.google.com.tr/citations?user=nSiJoMYAAAAJ&hl=en\" target=\"_blank\">\n",
        "                <img align=\"right\" src=\"https://raw.githubusercontent.com/MU-Physics-Department/logos/master/GS.png\">\n",
        "            </a>\n",
        "        </th>\n",
        "        <th style=\"padding:0px;\" width=\"5%\">\n",
        "            <a href=\"https://www.researchgate.net/profile/Saba-Bozpolat\" target=\"_blank\">\n",
        "                <img align=\"right\" src=\"https://raw.githubusercontent.com/MU-Physics-Department/logos/master/RG.png\">\n",
        "            </a>\n",
        "        </th>\n",
        "        <th style=\"padding:0px\" width=\"5%\">\n",
        "            <a href=\"https://www.youtube.com/channel/UC8-uOZud6UL7oCOE2UUBunA\" target=\"_blank\">\n",
        "                <img align=\"right\" src=\"https://raw.githubusercontent.com/MU-Physics-Department/logos/master/YT.png\">\n",
        "            </a>\n",
        "        </th>\n",
        "        <th style=\"padding:0px;\" width=\"5%\">\n",
        "            <a href=\"https://github.com/sbbzplt\" target=\"_blank\">\n",
        "                <img align=\"right\" src=\"https://raw.githubusercontent.com/MU-Physics-Department/logos/master/GH.png\">\n",
        "            </a>\n",
        "        </th>\n",
        "        <th style=\"padding:0px;\" width=\"5%\">\n",
        "            <a href=\"https://join.slack.com/t/mu-fzk/shared_invite/zt-13jtd6dtd-g9zD5P4Zu0m5P0Gt2PNReQ\"\n",
        "               target=\"_blank\">\n",
        "                <img align=\"right\" src=\"https://raw.githubusercontent.com/MU-Physics-Department/logos/master/slack.png\">\n",
        "            </a>\n",
        "        </th>\n",
        "    </tr>\n",
        "</table>\n",
        "<table width=\"100%\">\n",
        "    <tr style=\"background-color:white;\">\n",
        "        <!-- <td style=\"text-align-left;padding:0px;\" width=\"10%\">\n",
        "            <a href=\"https://fef.marmara.edu.tr\"\n",
        "               target=\"_blank\">\n",
        "                <img align=\"right\" src=\"https://raw.githubusercontent.com/MU-Physics-Department/logos/master/fef.png\">\n",
        "            </a>\n",
        "        </td> -->\n",
        "        <td style=\"padding:0px\" width=\"25%\">\n",
        "            <a href=\"http://fzk.fef.marmara.edu.tr\"\n",
        "               target=\"_blank\">\n",
        "                <img align=\"right\" src=\"https://raw.githubusercontent.com/MU-Physics-Department/logos/master/fzk.png\">\n",
        "            </a>\n",
        "        </td>\n",
        "        <td width=\"10%\">\n",
        "            &nbsp;\n",
        "        </td>\n",
        "        <td style=\"padding:0px;\" width=\"65%\">\n",
        "            <a href=\"https://www.sababozpolat.com/lectures/spring-semester/scientific-programming\"\n",
        "               target=\"_blank\">\n",
        "                <img align=\"right\" src=\"https://raw.githubusercontent.com/MU-Physics-Department/logos/master/phys3011.png\">\n",
        "            </a>\n",
        "        </td>\n",
        "    </tr>\n",
        "</table>"
      ],
      "metadata": {
        "id": "LYDbVPHCwcOR"
      }
    },
    {
      "cell_type": "markdown",
      "source": [
        "# Vectors with Objects\n",
        "\n",
        "In computer science, objects are a collection of primitive data types, data structures, and/or data containers. They usually define functionality between their data units via methods. They can be a variable, a data structure, a function, or a method. In most programming languages to implement a custom object is possible.\n",
        "\n",
        "Following is a Git repo of a vector module which contains the implementation of a simple vector object in Python. In the next cell, this repo is cloned and imported. Please run it to use it in tasks.\n",
        "\n",
        "**P.S:** Code of vector object is given ready to use, for now. We'll disscuss how to design and implement your own objects in later lectures."
      ],
      "metadata": {
        "id": "qJkmkbZERJgI"
      }
    },
    {
      "cell_type": "code",
      "source": [
        "%cd /content\n",
        "!rm -rf vector \n",
        "!git clone -q https://github.com/MU-Physics-Department/vector.git\n",
        "%cd vector \n",
        "from vector import *"
      ],
      "metadata": {
        "id": "0e4eMZqOyxS_"
      },
      "execution_count": null,
      "outputs": []
    },
    {
      "cell_type": "markdown",
      "source": [
        "## Vectors Module Documentation\n",
        "\n",
        "The given vector module is a simple vector object for the sake of this lecture. To understand its usage please view following code cell.\n"
      ],
      "metadata": {
        "id": "MoapukCy5bbV"
      }
    },
    {
      "cell_type": "code",
      "source": [
        "# Defination of a vector. You have to provide 3 arguments which will be considered as x, y and z components of the vector, respectively. \n",
        "a = Vector(3, 2, 5)\n",
        "\n",
        "# You can explicitly write the components of vector during definition.\n",
        "a = Vector(x=3, y=2, z=5)\n",
        "\n",
        "# You can change the order of the components as long as you write which one is which.\n",
        "a = Vector(z=5, x=3, y=2)\n",
        "\n",
        "# You can print the vector using print() function.\n",
        "print(a)\n",
        "print()\n",
        "\n",
        "# To see the the value of a component, you should use dot operator next to the vector variable.\n",
        "print(\"y component of vector-a:\", a.y) \n",
        "print()\n",
        "\n",
        "# You can add or substract vectors using plus and minus operators.\n",
        "a = Vector(3, 2, 5)\n",
        "b = Vector(7, 1, 4)\n",
        "print(a)\n",
        "print(b)\n",
        "c = a + b\n",
        "print(c)\n",
        "d = a - b\n",
        "print(d)\n"
      ],
      "metadata": {
        "id": "E2T25ZjZ6GXK"
      },
      "execution_count": null,
      "outputs": []
    },
    {
      "cell_type": "markdown",
      "source": [
        "<h3> Task 1 </h3>\n",
        "\n",
        "Consider following two vectors. \n",
        "\n",
        " * $\\vec{m} = 4.53 \\hat{i} + 1.86 \\hat{j} - 3.23 \\hat{k}$\n",
        " * $\\vec{n} = 5.39 \\hat{i} - 9.81 \\hat{j} + 7.09 \\hat{k}$\n",
        "\n",
        "Use vector module to define the vectors and write the code for given operations.\n",
        "\n",
        " - $\\vec{m} + \\vec{n}$\n",
        " - $\\vec{m} - \\vec{n}$\n"
      ],
      "metadata": {
        "id": "79ewO7EpcTOD"
      }
    },
    {
      "cell_type": "code",
      "source": [
        "# \n",
        "# your code here\n",
        "# \n",
        "m = Vector(4.53, 1.86, -3.23)\n",
        "n = Vector(5.39, -9.81, 7.09)\n",
        "m_pl_n = m + n\n",
        "print(\"m+n:\", m_pl_n)\n",
        "m_mn_n = m - n\n",
        "print(\"m-n:\", m_mn_n)"
      ],
      "metadata": {
        "id": "ut8hRteQfoMU"
      },
      "execution_count": null,
      "outputs": []
    },
    {
      "cell_type": "markdown",
      "source": [
        "<h3> Task 2 </h3>\n",
        "\n",
        "Consider following five vectors. \n",
        "\n",
        " * $\\vec{p} = 8.90 \\hat{i} - 6.50 \\hat{j} - 0.83 \\hat{k}$\n",
        " * $\\vec{q} = 3.69 \\hat{i} + 3.59 \\hat{j} + 5.76 \\hat{k}$\n",
        " * $\\vec{r} = -2.07 \\hat{i} - 4.36 \\hat{j} + 8.70 \\hat{k}$\n",
        " * $\\vec{s} = 0.88 \\hat{i} - 7.75 \\hat{j} + 6.94 \\hat{k}$\n",
        " * $\\vec{t} = -0.14 \\hat{i} - 2.85 \\hat{j} + 3.38 \\hat{k}$\n",
        "\n",
        "Use vector module to define the vectors and write the code for given operations.\n",
        "\n",
        " - $\\vec{q} + \\vec{s}$\n",
        " - $\\vec{r} - \\vec{p}$\n",
        " - $\\vec{p} + \\vec{r} + \\vec{t}$\n",
        " - $\\vec{q} + \\vec{r} - \\vec{s}$\n",
        " - $\\vec{p} + \\vec{q} - \\vec{r} + \\vec{s} - \\vec{t}$\n"
      ],
      "metadata": {
        "id": "-vdI6sL_fMOp"
      }
    },
    {
      "cell_type": "code",
      "source": [
        "# \n",
        "# your code here\n",
        "# \n",
        "p = Vector(8.90, -6.50, -0.83)\n",
        "q = Vector(3.69, 3.59, 5.76)\n",
        "r = Vector(-2.07, -4.36, 8.70)\n",
        "s = Vector(0.88, -7.75, 6.94)\n",
        "t = Vector(-0.14, -2.85, 3.38)\n",
        "q_pl_s = q + s\n",
        "print(\"q+s:\", q_pl_s)\n",
        "r_mn_p = r - p\n",
        "print(\"r-p:\", r_mn_p)\n",
        "p_pl_r_pls_t = p + r + t\n",
        "print(\"p+r+t:\", p_pl_r_pls_t)\n",
        "print(\"q+r-s:\", q+r-s)\n",
        "print(\"p+q-r+s-t:\", p+q-r+s-t)"
      ],
      "metadata": {
        "id": "jXWEpCk_fuBv"
      },
      "execution_count": null,
      "outputs": []
    },
    {
      "cell_type": "markdown",
      "source": [
        "As you would agree, using object concept in programming when suitable makes so much easier scaling and refactoring."
      ],
      "metadata": {
        "id": "H6fMx-qI-r_w"
      }
    }
  ]
}