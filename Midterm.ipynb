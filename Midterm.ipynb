{
  "nbformat": 4,
  "nbformat_minor": 0,
  "metadata": {
    "colab": {
      "private_outputs": true,
      "provenance": [],
      "include_colab_link": true
    },
    "kernelspec": {
      "name": "python3",
      "display_name": "Python 3"
    },
    "language_info": {
      "name": "python"
    }
  },
  "cells": [
    {
      "cell_type": "markdown",
      "metadata": {
        "id": "view-in-github",
        "colab_type": "text"
      },
      "source": [
        "<a href=\"https://colab.research.google.com/github/polattamer/tamerpolat/blob/main/Midterm.ipynb\" target=\"_parent\"><img src=\"https://colab.research.google.com/assets/colab-badge.svg\" alt=\"Open In Colab\"/></a>"
      ]
    },
    {
      "cell_type": "markdown",
      "source": [
        "<table width=\"100%\">\n",
        "    <tr style=\"\">\n",
        "        <th style=\"text-align:left; padding:0px\" width=\"5%\">\n",
        "            <a href=\"https://www.marmara.edu.tr\" target=\"_blank\">\n",
        "                <img src=\"https://raw.githubusercontent.com/MU-Physics-Department/logos/master/mu_logo.png\">\n",
        "            </a>\n",
        "        </th>\n",
        "        <th style=\"padding:0px;\" width=\"35%\">\n",
        "            <img align=\"right\" src=\"https://raw.githubusercontent.com/MU-Physics-Department/logos/master/name.png\">\n",
        "        </th>\n",
        "        <th  width=\"20%\">\n",
        "            &nbsp;\n",
        "        </th>\n",
        "        <th style=\"padding:0px\" width=\"5%\">\n",
        "            <a href=\"https://www.sababozpolat.com\" target=\"_blank\" padding=\"0px\">\n",
        "                <img align=\"center\" src=\"https://raw.githubusercontent.com/MU-Physics-Department/logos/master/hp.png\">\n",
        "            </a>\n",
        "        </th>\n",
        "        <th style=\"padding:0px\" width=\"5%\">\n",
        "            <a href=\"mailto:saba.bozpolat@gmail.com\" target=\"_blank\">\n",
        "                <img align=\"center\" src=\"https://raw.githubusercontent.com/MU-Physics-Department/logos/master/email.png\">\n",
        "            </a>\n",
        "        </th>\n",
        "        <th style=\"padding:0px;\" width=\"5%\">\n",
        "            <a href=\"https://www.linkedin.com/in/saba-bozpolat-644856152/\" target=\"_blank\">\n",
        "                <img align=\"right\" src=\"https://raw.githubusercontent.com/MU-Physics-Department/logos/master/in.png\">\n",
        "            </a>\n",
        "        </th>\n",
        "        <th style=\"padding:0px;\" width=\"5%\">\n",
        "            <a href=\"https://scholar.google.com.tr/citations?user=nSiJoMYAAAAJ&hl=en\" target=\"_blank\">\n",
        "                <img align=\"right\" src=\"https://raw.githubusercontent.com/MU-Physics-Department/logos/master/GS.png\">\n",
        "            </a>\n",
        "        </th>\n",
        "        <th style=\"padding:0px;\" width=\"5%\">\n",
        "            <a href=\"https://www.researchgate.net/profile/Saba-Bozpolat\" target=\"_blank\">\n",
        "                <img align=\"right\" src=\"https://raw.githubusercontent.com/MU-Physics-Department/logos/master/RG.png\">\n",
        "            </a>\n",
        "        </th>\n",
        "        <th style=\"padding:0px\" width=\"5%\">\n",
        "            <a href=\"https://www.youtube.com/channel/UC8-uOZud6UL7oCOE2UUBunA\" target=\"_blank\">\n",
        "                <img align=\"right\" src=\"https://raw.githubusercontent.com/MU-Physics-Department/logos/master/YT.png\">\n",
        "            </a>\n",
        "        </th>\n",
        "        <th style=\"padding:0px;\" width=\"5%\">\n",
        "            <a href=\"https://github.com/sbbzplt\" target=\"_blank\">\n",
        "                <img align=\"right\" src=\"https://raw.githubusercontent.com/MU-Physics-Department/logos/master/GH.png\">\n",
        "            </a>\n",
        "        </th>\n",
        "        <th style=\"padding:0px;\" width=\"5%\">\n",
        "            <a href=\"https://join.slack.com/t/mu-fzk/shared_invite/zt-13jtd6dtd-g9zD5P4Zu0m5P0Gt2PNReQ\"\n",
        "               target=\"_blank\">\n",
        "                <img align=\"right\" src=\"https://raw.githubusercontent.com/MU-Physics-Department/logos/master/slack.png\">\n",
        "            </a>\n",
        "        </th>\n",
        "    </tr>\n",
        "</table>\n",
        "<table width=\"100%\">\n",
        "    <tr style=\"background-color:white;\">\n",
        "        <!-- <td style=\"text-align-left;padding:0px;\" width=\"10%\">\n",
        "            <a href=\"https://fef.marmara.edu.tr\"\n",
        "               target=\"_blank\">\n",
        "                <img align=\"right\" src=\"https://raw.githubusercontent.com/MU-Physics-Department/logos/master/fef.png\">\n",
        "            </a>\n",
        "        </td> -->\n",
        "        <td style=\"padding:0px\" width=\"25%\">\n",
        "            <a href=\"http://fzk.fef.marmara.edu.tr\"\n",
        "               target=\"_blank\">\n",
        "                <img align=\"right\" src=\"https://raw.githubusercontent.com/MU-Physics-Department/logos/master/fzk.png\">\n",
        "            </a>\n",
        "        </td>\n",
        "        <td width=\"10%\">\n",
        "            &nbsp;\n",
        "        </td>\n",
        "        <td style=\"padding:0px;\" width=\"65%\">\n",
        "            <a href=\"https://www.sababozpolat.com/lectures/spring-semester/scientific-programming\"\n",
        "               target=\"_blank\">\n",
        "                <img align=\"right\" src=\"https://raw.githubusercontent.com/MU-Physics-Department/logos/master/phys3011.png\">\n",
        "            </a>\n",
        "        </td>\n",
        "    </tr>\n",
        "</table>"
      ],
      "metadata": {
        "id": "LYDbVPHCwcOR"
      }
    },
    {
      "cell_type": "code",
      "source": [],
      "metadata": {
        "id": "dJI1_gPtJ7LY"
      },
      "execution_count": null,
      "outputs": []
    },
    {
      "cell_type": "code",
      "source": [],
      "metadata": {
        "id": "ho9S7gZwJ7_X"
      },
      "execution_count": null,
      "outputs": []
    },
    {
      "cell_type": "markdown",
      "source": [
        "# Fen Fakültesi - Fizik Bölümü\n",
        "# PHYS3011 - Object Oriented Programming in Physics\n",
        "# 2022-2023 Fall Midterm\n",
        "\n",
        "<table>\n",
        "<tr>\n",
        "<td>\n",
        "Name: Tamer Polat\n",
        "&nbsp;&nbsp;&nbsp;&nbsp;&nbsp;&nbsp;&nbsp;&nbsp;&nbsp;&nbsp;&nbsp;&nbsp;&nbsp;&nbsp;&nbsp;&nbsp;&nbsp;&nbsp;&nbsp;&nbsp;&nbsp;&nbsp;&nbsp;&nbsp;&nbsp;&nbsp;&nbsp;&nbsp;&nbsp;&nbsp;&nbsp;&nbsp;&nbsp;&nbsp;&nbsp;&nbsp;&nbsp;&nbsp;&nbsp;&nbsp;&nbsp;&nbsp;&nbsp;&nbsp;&nbsp;&nbsp;&nbsp;&nbsp;&nbsp;&nbsp;&nbsp;&nbsp;&nbsp;&nbsp;&nbsp;&nbsp;&nbsp;&nbsp;&nbsp;&nbsp;&nbsp;&nbsp;&nbsp;&nbsp;&nbsp;&nbsp;&nbsp;&nbsp;&nbsp;&nbsp;&nbsp;&nbsp;&nbsp;&nbsp;&nbsp;&nbsp;&nbsp;&nbsp;&nbsp;&nbsp;&nbsp;&nbsp;&nbsp;&nbsp;&nbsp;&nbsp;&nbsp;&nbsp;&nbsp;&nbsp;&nbsp;&nbsp;&nbsp;&nbsp;&nbsp;&nbsp;&nbsp;&nbsp;&nbsp;\n",
        "&nbsp;&nbsp;&nbsp;&nbsp;&nbsp;&nbsp;&nbsp;&nbsp;&nbsp;&nbsp;&nbsp;&nbsp;&nbsp;&nbsp;&nbsp;&nbsp;&nbsp;&nbsp;&nbsp;&nbsp;&nbsp;&nbsp;&nbsp;&nbsp;&nbsp;&nbsp;&nbsp;&nbsp;&nbsp;&nbsp;&nbsp;&nbsp;&nbsp;&nbsp;&nbsp;&nbsp;&nbsp;&nbsp;&nbsp;&nbsp;&nbsp;&nbsp;&nbsp;&nbsp;&nbsp;&nbsp;&nbsp;&nbsp;&nbsp;&nbsp;&nbsp;&nbsp;&nbsp;&nbsp;&nbsp;&nbsp;&nbsp;&nbsp;&nbsp;&nbsp;&nbsp;&nbsp;&nbsp;&nbsp;&nbsp;&nbsp;&nbsp;&nbsp;&nbsp;&nbsp;&nbsp;&nbsp;&nbsp;&nbsp;&nbsp;&nbsp;&nbsp;&nbsp;&nbsp;\n",
        "<br>\n",
        "</td>\n",
        "<td>\n",
        "<br>\n",
        "Classroom: GZFC.015\n",
        "<br>\n",
        "&nbsp;&nbsp;&nbsp;&nbsp;&nbsp;&nbsp;&nbsp;&nbsp;&nbsp;&nbsp;&nbsp;&nbsp;&nbsp;&nbsp;&nbsp;&nbsp;&nbsp;&nbsp;&nbsp;&nbsp;&nbsp;&nbsp;&nbsp;&nbsp;&nbsp;&nbsp;&nbsp;&nbsp;&nbsp;&nbsp;&nbsp;&nbsp;&nbsp;&nbsp;&nbsp;&nbsp;&nbsp;&nbsp;&nbsp;&nbsp;&nbsp;&nbsp;&nbsp;&nbsp;&nbsp;&nbsp;&nbsp;&nbsp;&nbsp;&nbsp;&nbsp;&nbsp;&nbsp;&nbsp;&nbsp;&nbsp;&nbsp;&nbsp;&nbsp;&nbsp;&nbsp;&nbsp;&nbsp;&nbsp;&nbsp;&nbsp;&nbsp;&nbsp;&nbsp;&nbsp;&nbsp;&nbsp;&nbsp;&nbsp;&nbsp;&nbsp;&nbsp;&nbsp;&nbsp;&nbsp;&nbsp;&nbsp;&nbsp;&nbsp;&nbsp;&nbsp;&nbsp;&nbsp;&nbsp;&nbsp;&nbsp;&nbsp;&nbsp;&nbsp;&nbsp;&nbsp;&nbsp;&nbsp;&nbsp;&nbsp;&nbsp;&nbsp;&nbsp;&nbsp;&nbsp;&nbsp;&nbsp;&nbsp;&nbsp;&nbsp;&nbsp;&nbsp;&nbsp;&nbsp;&nbsp;&nbsp;&nbsp;&nbsp;&nbsp;&nbsp;&nbsp;&nbsp;&nbsp;&nbsp;&nbsp;&nbsp;&nbsp;&nbsp;&nbsp;&nbsp;&nbsp;&nbsp;&nbsp;&nbsp;&nbsp;&nbsp;&nbsp;&nbsp;&nbsp;&nbsp;&nbsp;&nbsp;&nbsp;\n",
        "<br>\n",
        "</td>\n",
        "</tr>\n",
        "\n",
        "<tr>\n",
        "<td>\n",
        "Student ID: 120516022\n",
        "<br>\n",
        "</td>\n",
        "<td>\n",
        "<br>\n",
        "Date: 24/11/2022\n",
        "<br>\n",
        "<br>\n",
        "</td>\n",
        "</tr>\n",
        "\n",
        "<tr>\n",
        "<td>\n",
        "<br>\n",
        "Signature\n",
        "<br>\n",
        "<br>\n",
        "</td>\n",
        "<td>\n",
        "<br>\n",
        "Time: 16:30\n",
        "<br>\n",
        "<br>\n",
        "</td>\n",
        "</tr>\n",
        "\n",
        "</table>"
      ],
      "metadata": {
        "id": "5uNLqJtMelNM"
      }
    },
    {
      "cell_type": "markdown",
      "source": [
        "## Question 1\n",
        "\n",
        "Make object oriented design for atoms on periodic table and implement its code. Create at least 10 different atom instances. (50 pts)"
      ],
      "metadata": {
        "id": "xQ0NXD_GfPGx"
      }
    },
    {
      "cell_type": "markdown",
      "source": [
        "\\# your design here\n",
        "* Vanadium\n",
        "  * Weight\n",
        "  * Energy levels\n",
        "  * Electronegativity\n",
        "  * Melting point\n",
        "  * Boiling point\n",
        "  * Ionization\n",
        "  * Radius\n",
        "  * Density\n",
        "  * Conductivity\n",
        "  * Heat         \n",
        "* Palladium\n",
        "  * Weight\n",
        "  * Energy levels\n",
        "  * Melting point\n",
        "  * Boiling point\n",
        "  * Electron affinity\n",
        "  * Ionization\n",
        "  * Radius\n",
        "  * Hardness\n",
        "  * Modulus\n",
        "  * Density\n",
        "* Phosphorus\n",
        "  * Energy levels\n",
        "  * Melting point\n",
        "  * Boiling point\n",
        "  * Ionization\n",
        "  * Radius\n",
        "  * Hardness\n",
        "  * Modulus\n",
        "  * Density\n",
        "  * Conductivity\n",
        "  * Heat         \n"
      ],
      "metadata": {
        "id": "mKTFBVkXlzfr"
      }
    },
    {
      "cell_type": "code",
      "source": [
        "#\n",
        "# your code here\n",
        "#\n",
        "class Atoms:\n",
        "    def __init__(self, name, weight, hardness, symbol, melting_point, boiling_point, ionization, radius, density, conductivity):\n",
        "        self.name = name\n",
        "        self.weight = weight\n",
        "        self.hardness = hardness\n",
        "        self.symbol = symbol\n",
        "        self.melting_point = melting_point\n",
        "        self.boiling_point = boiling_point\n",
        "        self.ionization = ionization\n",
        "        self.radius = radius\n",
        "        self.density = density\n",
        "        self.conductivity = conductivity\n",
        "\n",
        "Atom1 = Atoms(\"Vanadium\", 50.94, 628, \"V\", 1910, 3407, 650.9, 171, 6110, 31)\n",
        "Atom2 = Atoms(\"Palladium\", 106.42, 37.3, \"Pd\", 1554.90, 2963, 804, 169, 12023, 72)\n",
        "Atom3 = Atoms(\"Technetium\", 98, 0, \"Tc\", 2157, 15, 16, 17, 18, 19)\n",
        "Atom4 = Atoms(\"Radium\", 226, 0, \"Ra\", 700, 1737, 509.3, 0, 5000, 19)\n",
        "Atom5 = Atoms(\"Dubnium\", 268, 0, 13, 14, \"Db\", 0, 17, 18, 19)\n",
        "Atom6 = Atoms(\"Indium\", 114.82, 8.83, 13, \"In\", 156.60, 16, 17, 18, 19)\n",
        "\n",
        "\n",
        "print(Atom1.weight)\n"
      ],
      "metadata": {
        "id": "Jm4nF3RCl3s2"
      },
      "execution_count": null,
      "outputs": []
    },
    {
      "cell_type": "markdown",
      "source": [
        "## Question 2\n",
        "\n",
        "Make object oriented design for baryons and implement its code. Create the baryon instances for baryon octet and baryon decuplet. (50 pts)"
      ],
      "metadata": {
        "id": "DgVP1dmklsES"
      }
    },
    {
      "cell_type": "markdown",
      "source": [
        "# your design here\n",
        "* Octet Baryons\n",
        "  * Proton\n",
        "  * Neutron\n",
        "  * Lambda\n",
        "  * Sigma\n",
        "    * Instances\n",
        "      * Quark Content\n",
        "      * Strangess\n",
        "      * Beauty\n",
        "      * Charge\n",
        "* Decuplet Baryons\n",
        "  * Omega\n",
        "  * Xi\n",
        "  * Bottom Xi\n",
        "  * Double Charmed Omega\n",
        "    * Instances\n",
        "      * Quark Content\n",
        "      * Strangess\n",
        "      * Beauty\n",
        "      * Charge\n",
        "  \n",
        "        "
      ],
      "metadata": {
        "id": "2gNoYxf_l7t7"
      }
    },
    {
      "cell_type": "code",
      "source": [
        "#\n",
        "# your code here\n",
        "#\n",
        "class Octet_Baryons:\n",
        "    def __init__(self, name, quark_content, strangess, beauty, charge, isospin,):\n",
        "        self.name = name\n",
        "        self.quark_content = quark_content\n",
        "        self.strangess = strangess\n",
        "        self.beauty = beauty\n",
        "        self.charge = charge\n",
        "        self.isospin = isospin\n",
        "        self.quark_content = quark_content\n",
        "\n",
        "OctetBaryon1 = Octet_Baryons(\"Proton\", \"uud\", 0, 0, 1, 1/2)\n",
        "OctetBaryon2 = Octet_Baryons(\"Neutron\", \"uud\", 0, 0, 0, 1/2)\n",
        "OctetBaryon3 = Octet_Baryons(\"Lambda\", \"uds\", -1, 0, 0, 0)\n",
        "OctetBaryon4 = Octet_Baryons(\"Sigma\", \"uus\", -1, 0, 1, 1)\n",
        "\n",
        "\n",
        "\n",
        "print(OctetBaryon1.name)\n",
        "\n",
        "\n",
        "class Decuplet_Baryons:\n",
        "    def __init__(self, name, quark_content, strangess, beauty, charge, isospin,):\n",
        "        self.name = name\n",
        "        self.quark_content = quark_content\n",
        "        self.strangess = strangess\n",
        "        self.beauty = beauty\n",
        "        self.charge = charge\n",
        "        self.isospin = isospin\n",
        "        self.quark_content = quark_content\n",
        "\n",
        "DecupletBaryon1 = Decuplet_Baryons(\"Omega\", \"sss\", -3, 0, 1, 1/2)\n",
        "DecupletBaryon1 = Decuplet_Baryons(\"Xi\", \"uus\", -2, 0, 0, 1/2)\n",
        "DecupletBaryon1 = Decuplet_Baryons(\"Bottom Xi\", \"usb\", -1, 0, 0, 1/2)\n",
        "DecupletBaryon1 = Decuplet_Baryons(\"Double Charmed Omega\", \"scc\", -1, 0, 1/2, 1)\n",
        "\n",
        "\n",
        "\n",
        "print(DecupletBaryon1.name)\n",
        "\n"
      ],
      "metadata": {
        "id": "TNBB7S9ul7t9"
      },
      "execution_count": null,
      "outputs": []
    }
  ]
}